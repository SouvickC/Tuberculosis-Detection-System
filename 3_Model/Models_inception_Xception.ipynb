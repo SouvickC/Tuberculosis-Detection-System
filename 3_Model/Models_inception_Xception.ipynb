{
  "cells": [
    {
      "cell_type": "code",
      "execution_count": null,
      "metadata": {
        "id": "qghfxF2lxQfH"
      },
      "outputs": [],
      "source": [
        "#list of useful libraries required for the project\n",
        "import os\n",
        "import tqdm\n",
        "import matplotlib.pyplot as plt\n",
        "import pandas as pd\n",
        "import numpy as np\n",
        "import cv2\n",
        "from glob import glob\n",
        "import seaborn as sns\n",
        "import random\n",
        "from keras.preprocessing import image\n",
        "import tensorflow as tf\n",
        "\n",
        "from keras.models import Sequential\n",
        "from keras.layers import Dense,Dropout,Flatten,Conv2D,MaxPool2D,GlobalAvgPool2D,GlobalMaxPooling2D\n",
        "from keras.optimizers import RMSprop\n",
        "from keras.preprocessing.image import ImageDataGenerator\n",
        "\n",
        "from keras.optimizers import Adam\n",
        "from sklearn.model_selection import train_test_split"
      ]
    },
    {
      "cell_type": "code",
      "execution_count": null,
      "metadata": {
        "colab": {
          "base_uri": "https://localhost:8080/"
        },
        "id": "89YJN0RRxTai",
        "outputId": "b715356f-55d4-4648-ae6e-2a741097699a"
      },
      "outputs": [
        {
          "name": "stdout",
          "output_type": "stream",
          "text": [
            "Mounted at /content/drive\n"
          ]
        }
      ],
      "source": [
        "from google.colab import drive\n",
        "drive.mount('/content/drive')"
      ]
    },
    {
      "cell_type": "code",
      "execution_count": null,
      "metadata": {
        "id": "iQXbc2RyyNrL"
      },
      "outputs": [],
      "source": [
        "data='/content/drive/MyDrive/Tuberculosis_final - Copy/TB_Chest_Radiography_Database/'"
      ]
    },
    {
      "cell_type": "code",
      "execution_count": null,
      "metadata": {
        "id": "oJc6YcBRxs_C"
      },
      "outputs": [],
      "source": [
        "images=[]\n",
        "import os\n",
        "for dirname,_,filenames in os.walk(data):\n",
        "  for filename in filenames:\n",
        "    file_name, file_extension = os.path.splitext(filename)\n",
        "    if file_extension == '.db':\n",
        "      continue\n",
        "    else:\n",
        "      img=os.path.join(dirname,filename)\n",
        "      images.append(img)"
      ]
    },
    {
      "cell_type": "code",
      "execution_count": null,
      "metadata": {
        "colab": {
          "base_uri": "https://localhost:8080/"
        },
        "id": "UUD_Xy4ryaZb",
        "outputId": "065b3615-c059-43a3-8fa8-3a7d3c641d61"
      },
      "outputs": [
        {
          "data": {
            "text/plain": [
              "['/content/drive/MyDrive/Tuberculosis_final - Copy/TB_Chest_Radiography_Database/Tuberculosis/45.jpg',\n",
              " '/content/drive/MyDrive/Tuberculosis_final - Copy/TB_Chest_Radiography_Database/Tuberculosis/827.jpg',\n",
              " '/content/drive/MyDrive/Tuberculosis_final - Copy/TB_Chest_Radiography_Database/Tuberculosis/387.jpg',\n",
              " '/content/drive/MyDrive/Tuberculosis_final - Copy/TB_Chest_Radiography_Database/Tuberculosis/72.jpg',\n",
              " '/content/drive/MyDrive/Tuberculosis_final - Copy/TB_Chest_Radiography_Database/Tuberculosis/348.jpg',\n",
              " '/content/drive/MyDrive/Tuberculosis_final - Copy/TB_Chest_Radiography_Database/Tuberculosis/799.jpg',\n",
              " '/content/drive/MyDrive/Tuberculosis_final - Copy/TB_Chest_Radiography_Database/Tuberculosis/936.jpg',\n",
              " '/content/drive/MyDrive/Tuberculosis_final - Copy/TB_Chest_Radiography_Database/Tuberculosis/722.jpg',\n",
              " '/content/drive/MyDrive/Tuberculosis_final - Copy/TB_Chest_Radiography_Database/Tuberculosis/650.jpg',\n",
              " '/content/drive/MyDrive/Tuberculosis_final - Copy/TB_Chest_Radiography_Database/Tuberculosis/659.jpg',\n",
              " '/content/drive/MyDrive/Tuberculosis_final - Copy/TB_Chest_Radiography_Database/Tuberculosis/4.jpg',\n",
              " '/content/drive/MyDrive/Tuberculosis_final - Copy/TB_Chest_Radiography_Database/Tuberculosis/631.jpg',\n",
              " '/content/drive/MyDrive/Tuberculosis_final - Copy/TB_Chest_Radiography_Database/Tuberculosis/474.jpg',\n",
              " '/content/drive/MyDrive/Tuberculosis_final - Copy/TB_Chest_Radiography_Database/Tuberculosis/536.jpg',\n",
              " '/content/drive/MyDrive/Tuberculosis_final - Copy/TB_Chest_Radiography_Database/Tuberculosis/55.jpg',\n",
              " '/content/drive/MyDrive/Tuberculosis_final - Copy/TB_Chest_Radiography_Database/Tuberculosis/31.jpg',\n",
              " '/content/drive/MyDrive/Tuberculosis_final - Copy/TB_Chest_Radiography_Database/Tuberculosis/353.jpg',\n",
              " '/content/drive/MyDrive/Tuberculosis_final - Copy/TB_Chest_Radiography_Database/Tuberculosis/808.jpg',\n",
              " '/content/drive/MyDrive/Tuberculosis_final - Copy/TB_Chest_Radiography_Database/Tuberculosis/597.jpg',\n",
              " '/content/drive/MyDrive/Tuberculosis_final - Copy/TB_Chest_Radiography_Database/Tuberculosis/544.jpg']"
            ]
          },
          "execution_count": 5,
          "metadata": {},
          "output_type": "execute_result"
        }
      ],
      "source": [
        "images[:20]"
      ]
    },
    {
      "cell_type": "code",
      "execution_count": null,
      "metadata": {
        "colab": {
          "base_uri": "https://localhost:8080/"
        },
        "id": "PSgPYtnDyd0z",
        "outputId": "19b465d2-0fd3-4cb2-feef-e4b002f9a1b7"
      },
      "outputs": [
        {
          "data": {
            "text/plain": [
              "5420"
            ]
          },
          "execution_count": 6,
          "metadata": {},
          "output_type": "execute_result"
        }
      ],
      "source": [
        "len(images)"
      ]
    },
    {
      "cell_type": "code",
      "execution_count": null,
      "metadata": {
        "id": "hgGwiZvcyi07"
      },
      "outputs": [],
      "source": [
        "class_values = []\n",
        "for i in images:\n",
        "    j = i.split('/')\n",
        "    class_values.append(j[-2])\n",
        "#Extracting Class Values"
      ]
    },
    {
      "cell_type": "code",
      "execution_count": null,
      "metadata": {
        "colab": {
          "base_uri": "https://localhost:8080/"
        },
        "id": "sE8GK9IoymXZ",
        "outputId": "a35e2ec7-c5f0-4fb3-a887-265f00a3b5a6"
      },
      "outputs": [
        {
          "data": {
            "text/plain": [
              "['Tuberculosis',\n",
              " 'Tuberculosis',\n",
              " 'Tuberculosis',\n",
              " 'Tuberculosis',\n",
              " 'Tuberculosis',\n",
              " 'Tuberculosis',\n",
              " 'Tuberculosis',\n",
              " 'Tuberculosis',\n",
              " 'Tuberculosis',\n",
              " 'Tuberculosis']"
            ]
          },
          "execution_count": 8,
          "metadata": {},
          "output_type": "execute_result"
        }
      ],
      "source": [
        "class_values[:10]"
      ]
    },
    {
      "cell_type": "code",
      "execution_count": null,
      "metadata": {
        "colab": {
          "base_uri": "https://localhost:8080/"
        },
        "id": "ESI6rImNyoxm",
        "outputId": "0e790c93-1f88-4b6e-d34f-2aefe01741f2"
      },
      "outputs": [
        {
          "data": {
            "text/plain": [
              "5420"
            ]
          },
          "execution_count": 9,
          "metadata": {},
          "output_type": "execute_result"
        }
      ],
      "source": [
        "len(class_values)"
      ]
    },
    {
      "cell_type": "code",
      "execution_count": null,
      "metadata": {
        "id": "qJeGw9rQyr9W"
      },
      "outputs": [],
      "source": [
        "temp = list(zip(images,class_values))\n",
        "#Zipping Image Paths and Class Labels\n",
        "random.shuffle(temp)\n",
        "#reordering ensures that the pairing of image paths and class labels is maintained\n",
        "images, class_values = zip(*temp)\n",
        "#Unzipping the Shuffled Data\n",
        "data = pd.DataFrame(list(zip(images, class_values)), columns=['image_path', 'class_label'])\n",
        "#Creating a Pandas DataFrame"
      ]
    },
    {
      "cell_type": "code",
      "execution_count": null,
      "metadata": {
        "colab": {
          "base_uri": "https://localhost:8080/",
          "height": 423
        },
        "id": "MDaBTCOUyvEm",
        "outputId": "01e7bd42-4cc9-4dfa-b78a-1a784d12fbf8"
      },
      "outputs": [
        {
          "data": {
            "application/vnd.google.colaboratory.intrinsic+json": {
              "summary": "{\n  \"name\": \"data\",\n  \"rows\": 5420,\n  \"fields\": [\n    {\n      \"column\": \"image_path\",\n      \"properties\": {\n        \"dtype\": \"string\",\n        \"num_unique_values\": 5420,\n        \"samples\": [\n          \"/content/drive/MyDrive/Tuberculosis_final - Copy/TB_Chest_Radiography_Database/Normal/Normal-2338.png\",\n          \"/content/drive/MyDrive/Tuberculosis_final - Copy/TB_Chest_Radiography_Database/Normal/Normal-1074.png\",\n          \"/content/drive/MyDrive/Tuberculosis_final - Copy/TB_Chest_Radiography_Database/Normal/Normal-2960.png\"\n        ],\n        \"semantic_type\": \"\",\n        \"description\": \"\"\n      }\n    },\n    {\n      \"column\": \"class_label\",\n      \"properties\": {\n        \"dtype\": \"category\",\n        \"num_unique_values\": 2,\n        \"samples\": [\n          \"Normal\",\n          \"Tuberculosis\"\n        ],\n        \"semantic_type\": \"\",\n        \"description\": \"\"\n      }\n    }\n  ]\n}",
              "type": "dataframe",
              "variable_name": "data"
            },
            "text/html": [
              "\n",
              "  <div id=\"df-9f0ede4f-e81d-4496-bf0c-cc19f47c0e27\" class=\"colab-df-container\">\n",
              "    <div>\n",
              "<style scoped>\n",
              "    .dataframe tbody tr th:only-of-type {\n",
              "        vertical-align: middle;\n",
              "    }\n",
              "\n",
              "    .dataframe tbody tr th {\n",
              "        vertical-align: top;\n",
              "    }\n",
              "\n",
              "    .dataframe thead th {\n",
              "        text-align: right;\n",
              "    }\n",
              "</style>\n",
              "<table border=\"1\" class=\"dataframe\">\n",
              "  <thead>\n",
              "    <tr style=\"text-align: right;\">\n",
              "      <th></th>\n",
              "      <th>image_path</th>\n",
              "      <th>class_label</th>\n",
              "    </tr>\n",
              "  </thead>\n",
              "  <tbody>\n",
              "    <tr>\n",
              "      <th>0</th>\n",
              "      <td>/content/drive/MyDrive/Tuberculosis_final - Co...</td>\n",
              "      <td>Tuberculosis</td>\n",
              "    </tr>\n",
              "    <tr>\n",
              "      <th>1</th>\n",
              "      <td>/content/drive/MyDrive/Tuberculosis_final - Co...</td>\n",
              "      <td>Normal</td>\n",
              "    </tr>\n",
              "    <tr>\n",
              "      <th>2</th>\n",
              "      <td>/content/drive/MyDrive/Tuberculosis_final - Co...</td>\n",
              "      <td>Tuberculosis</td>\n",
              "    </tr>\n",
              "    <tr>\n",
              "      <th>3</th>\n",
              "      <td>/content/drive/MyDrive/Tuberculosis_final - Co...</td>\n",
              "      <td>Tuberculosis</td>\n",
              "    </tr>\n",
              "    <tr>\n",
              "      <th>4</th>\n",
              "      <td>/content/drive/MyDrive/Tuberculosis_final - Co...</td>\n",
              "      <td>Tuberculosis</td>\n",
              "    </tr>\n",
              "    <tr>\n",
              "      <th>...</th>\n",
              "      <td>...</td>\n",
              "      <td>...</td>\n",
              "    </tr>\n",
              "    <tr>\n",
              "      <th>5415</th>\n",
              "      <td>/content/drive/MyDrive/Tuberculosis_final - Co...</td>\n",
              "      <td>Tuberculosis</td>\n",
              "    </tr>\n",
              "    <tr>\n",
              "      <th>5416</th>\n",
              "      <td>/content/drive/MyDrive/Tuberculosis_final - Co...</td>\n",
              "      <td>Normal</td>\n",
              "    </tr>\n",
              "    <tr>\n",
              "      <th>5417</th>\n",
              "      <td>/content/drive/MyDrive/Tuberculosis_final - Co...</td>\n",
              "      <td>Normal</td>\n",
              "    </tr>\n",
              "    <tr>\n",
              "      <th>5418</th>\n",
              "      <td>/content/drive/MyDrive/Tuberculosis_final - Co...</td>\n",
              "      <td>Tuberculosis</td>\n",
              "    </tr>\n",
              "    <tr>\n",
              "      <th>5419</th>\n",
              "      <td>/content/drive/MyDrive/Tuberculosis_final - Co...</td>\n",
              "      <td>Normal</td>\n",
              "    </tr>\n",
              "  </tbody>\n",
              "</table>\n",
              "<p>5420 rows × 2 columns</p>\n",
              "</div>\n",
              "    <div class=\"colab-df-buttons\">\n",
              "\n",
              "  <div class=\"colab-df-container\">\n",
              "    <button class=\"colab-df-convert\" onclick=\"convertToInteractive('df-9f0ede4f-e81d-4496-bf0c-cc19f47c0e27')\"\n",
              "            title=\"Convert this dataframe to an interactive table.\"\n",
              "            style=\"display:none;\">\n",
              "\n",
              "  <svg xmlns=\"http://www.w3.org/2000/svg\" height=\"24px\" viewBox=\"0 -960 960 960\">\n",
              "    <path d=\"M120-120v-720h720v720H120Zm60-500h600v-160H180v160Zm220 220h160v-160H400v160Zm0 220h160v-160H400v160ZM180-400h160v-160H180v160Zm440 0h160v-160H620v160ZM180-180h160v-160H180v160Zm440 0h160v-160H620v160Z\"/>\n",
              "  </svg>\n",
              "    </button>\n",
              "\n",
              "  <style>\n",
              "    .colab-df-container {\n",
              "      display:flex;\n",
              "      gap: 12px;\n",
              "    }\n",
              "\n",
              "    .colab-df-convert {\n",
              "      background-color: #E8F0FE;\n",
              "      border: none;\n",
              "      border-radius: 50%;\n",
              "      cursor: pointer;\n",
              "      display: none;\n",
              "      fill: #1967D2;\n",
              "      height: 32px;\n",
              "      padding: 0 0 0 0;\n",
              "      width: 32px;\n",
              "    }\n",
              "\n",
              "    .colab-df-convert:hover {\n",
              "      background-color: #E2EBFA;\n",
              "      box-shadow: 0px 1px 2px rgba(60, 64, 67, 0.3), 0px 1px 3px 1px rgba(60, 64, 67, 0.15);\n",
              "      fill: #174EA6;\n",
              "    }\n",
              "\n",
              "    .colab-df-buttons div {\n",
              "      margin-bottom: 4px;\n",
              "    }\n",
              "\n",
              "    [theme=dark] .colab-df-convert {\n",
              "      background-color: #3B4455;\n",
              "      fill: #D2E3FC;\n",
              "    }\n",
              "\n",
              "    [theme=dark] .colab-df-convert:hover {\n",
              "      background-color: #434B5C;\n",
              "      box-shadow: 0px 1px 3px 1px rgba(0, 0, 0, 0.15);\n",
              "      filter: drop-shadow(0px 1px 2px rgba(0, 0, 0, 0.3));\n",
              "      fill: #FFFFFF;\n",
              "    }\n",
              "  </style>\n",
              "\n",
              "    <script>\n",
              "      const buttonEl =\n",
              "        document.querySelector('#df-9f0ede4f-e81d-4496-bf0c-cc19f47c0e27 button.colab-df-convert');\n",
              "      buttonEl.style.display =\n",
              "        google.colab.kernel.accessAllowed ? 'block' : 'none';\n",
              "\n",
              "      async function convertToInteractive(key) {\n",
              "        const element = document.querySelector('#df-9f0ede4f-e81d-4496-bf0c-cc19f47c0e27');\n",
              "        const dataTable =\n",
              "          await google.colab.kernel.invokeFunction('convertToInteractive',\n",
              "                                                    [key], {});\n",
              "        if (!dataTable) return;\n",
              "\n",
              "        const docLinkHtml = 'Like what you see? Visit the ' +\n",
              "          '<a target=\"_blank\" href=https://colab.research.google.com/notebooks/data_table.ipynb>data table notebook</a>'\n",
              "          + ' to learn more about interactive tables.';\n",
              "        element.innerHTML = '';\n",
              "        dataTable['output_type'] = 'display_data';\n",
              "        await google.colab.output.renderOutput(dataTable, element);\n",
              "        const docLink = document.createElement('div');\n",
              "        docLink.innerHTML = docLinkHtml;\n",
              "        element.appendChild(docLink);\n",
              "      }\n",
              "    </script>\n",
              "  </div>\n",
              "\n",
              "\n",
              "<div id=\"df-e279f3c8-f92d-4ce8-bcfa-ea2b8149f0c9\">\n",
              "  <button class=\"colab-df-quickchart\" onclick=\"quickchart('df-e279f3c8-f92d-4ce8-bcfa-ea2b8149f0c9')\"\n",
              "            title=\"Suggest charts\"\n",
              "            style=\"display:none;\">\n",
              "\n",
              "<svg xmlns=\"http://www.w3.org/2000/svg\" height=\"24px\"viewBox=\"0 0 24 24\"\n",
              "     width=\"24px\">\n",
              "    <g>\n",
              "        <path d=\"M19 3H5c-1.1 0-2 .9-2 2v14c0 1.1.9 2 2 2h14c1.1 0 2-.9 2-2V5c0-1.1-.9-2-2-2zM9 17H7v-7h2v7zm4 0h-2V7h2v10zm4 0h-2v-4h2v4z\"/>\n",
              "    </g>\n",
              "</svg>\n",
              "  </button>\n",
              "\n",
              "<style>\n",
              "  .colab-df-quickchart {\n",
              "      --bg-color: #E8F0FE;\n",
              "      --fill-color: #1967D2;\n",
              "      --hover-bg-color: #E2EBFA;\n",
              "      --hover-fill-color: #174EA6;\n",
              "      --disabled-fill-color: #AAA;\n",
              "      --disabled-bg-color: #DDD;\n",
              "  }\n",
              "\n",
              "  [theme=dark] .colab-df-quickchart {\n",
              "      --bg-color: #3B4455;\n",
              "      --fill-color: #D2E3FC;\n",
              "      --hover-bg-color: #434B5C;\n",
              "      --hover-fill-color: #FFFFFF;\n",
              "      --disabled-bg-color: #3B4455;\n",
              "      --disabled-fill-color: #666;\n",
              "  }\n",
              "\n",
              "  .colab-df-quickchart {\n",
              "    background-color: var(--bg-color);\n",
              "    border: none;\n",
              "    border-radius: 50%;\n",
              "    cursor: pointer;\n",
              "    display: none;\n",
              "    fill: var(--fill-color);\n",
              "    height: 32px;\n",
              "    padding: 0;\n",
              "    width: 32px;\n",
              "  }\n",
              "\n",
              "  .colab-df-quickchart:hover {\n",
              "    background-color: var(--hover-bg-color);\n",
              "    box-shadow: 0 1px 2px rgba(60, 64, 67, 0.3), 0 1px 3px 1px rgba(60, 64, 67, 0.15);\n",
              "    fill: var(--button-hover-fill-color);\n",
              "  }\n",
              "\n",
              "  .colab-df-quickchart-complete:disabled,\n",
              "  .colab-df-quickchart-complete:disabled:hover {\n",
              "    background-color: var(--disabled-bg-color);\n",
              "    fill: var(--disabled-fill-color);\n",
              "    box-shadow: none;\n",
              "  }\n",
              "\n",
              "  .colab-df-spinner {\n",
              "    border: 2px solid var(--fill-color);\n",
              "    border-color: transparent;\n",
              "    border-bottom-color: var(--fill-color);\n",
              "    animation:\n",
              "      spin 1s steps(1) infinite;\n",
              "  }\n",
              "\n",
              "  @keyframes spin {\n",
              "    0% {\n",
              "      border-color: transparent;\n",
              "      border-bottom-color: var(--fill-color);\n",
              "      border-left-color: var(--fill-color);\n",
              "    }\n",
              "    20% {\n",
              "      border-color: transparent;\n",
              "      border-left-color: var(--fill-color);\n",
              "      border-top-color: var(--fill-color);\n",
              "    }\n",
              "    30% {\n",
              "      border-color: transparent;\n",
              "      border-left-color: var(--fill-color);\n",
              "      border-top-color: var(--fill-color);\n",
              "      border-right-color: var(--fill-color);\n",
              "    }\n",
              "    40% {\n",
              "      border-color: transparent;\n",
              "      border-right-color: var(--fill-color);\n",
              "      border-top-color: var(--fill-color);\n",
              "    }\n",
              "    60% {\n",
              "      border-color: transparent;\n",
              "      border-right-color: var(--fill-color);\n",
              "    }\n",
              "    80% {\n",
              "      border-color: transparent;\n",
              "      border-right-color: var(--fill-color);\n",
              "      border-bottom-color: var(--fill-color);\n",
              "    }\n",
              "    90% {\n",
              "      border-color: transparent;\n",
              "      border-bottom-color: var(--fill-color);\n",
              "    }\n",
              "  }\n",
              "</style>\n",
              "\n",
              "  <script>\n",
              "    async function quickchart(key) {\n",
              "      const quickchartButtonEl =\n",
              "        document.querySelector('#' + key + ' button');\n",
              "      quickchartButtonEl.disabled = true;  // To prevent multiple clicks.\n",
              "      quickchartButtonEl.classList.add('colab-df-spinner');\n",
              "      try {\n",
              "        const charts = await google.colab.kernel.invokeFunction(\n",
              "            'suggestCharts', [key], {});\n",
              "      } catch (error) {\n",
              "        console.error('Error during call to suggestCharts:', error);\n",
              "      }\n",
              "      quickchartButtonEl.classList.remove('colab-df-spinner');\n",
              "      quickchartButtonEl.classList.add('colab-df-quickchart-complete');\n",
              "    }\n",
              "    (() => {\n",
              "      let quickchartButtonEl =\n",
              "        document.querySelector('#df-e279f3c8-f92d-4ce8-bcfa-ea2b8149f0c9 button');\n",
              "      quickchartButtonEl.style.display =\n",
              "        google.colab.kernel.accessAllowed ? 'block' : 'none';\n",
              "    })();\n",
              "  </script>\n",
              "</div>\n",
              "\n",
              "  <div id=\"id_7e308d0a-a4f8-4a32-a783-cbb545530bb8\">\n",
              "    <style>\n",
              "      .colab-df-generate {\n",
              "        background-color: #E8F0FE;\n",
              "        border: none;\n",
              "        border-radius: 50%;\n",
              "        cursor: pointer;\n",
              "        display: none;\n",
              "        fill: #1967D2;\n",
              "        height: 32px;\n",
              "        padding: 0 0 0 0;\n",
              "        width: 32px;\n",
              "      }\n",
              "\n",
              "      .colab-df-generate:hover {\n",
              "        background-color: #E2EBFA;\n",
              "        box-shadow: 0px 1px 2px rgba(60, 64, 67, 0.3), 0px 1px 3px 1px rgba(60, 64, 67, 0.15);\n",
              "        fill: #174EA6;\n",
              "      }\n",
              "\n",
              "      [theme=dark] .colab-df-generate {\n",
              "        background-color: #3B4455;\n",
              "        fill: #D2E3FC;\n",
              "      }\n",
              "\n",
              "      [theme=dark] .colab-df-generate:hover {\n",
              "        background-color: #434B5C;\n",
              "        box-shadow: 0px 1px 3px 1px rgba(0, 0, 0, 0.15);\n",
              "        filter: drop-shadow(0px 1px 2px rgba(0, 0, 0, 0.3));\n",
              "        fill: #FFFFFF;\n",
              "      }\n",
              "    </style>\n",
              "    <button class=\"colab-df-generate\" onclick=\"generateWithVariable('data')\"\n",
              "            title=\"Generate code using this dataframe.\"\n",
              "            style=\"display:none;\">\n",
              "\n",
              "  <svg xmlns=\"http://www.w3.org/2000/svg\" height=\"24px\"viewBox=\"0 0 24 24\"\n",
              "       width=\"24px\">\n",
              "    <path d=\"M7,19H8.4L18.45,9,17,7.55,7,17.6ZM5,21V16.75L18.45,3.32a2,2,0,0,1,2.83,0l1.4,1.43a1.91,1.91,0,0,1,.58,1.4,1.91,1.91,0,0,1-.58,1.4L9.25,21ZM18.45,9,17,7.55Zm-12,3A5.31,5.31,0,0,0,4.9,8.1,5.31,5.31,0,0,0,1,6.5,5.31,5.31,0,0,0,4.9,4.9,5.31,5.31,0,0,0,6.5,1,5.31,5.31,0,0,0,8.1,4.9,5.31,5.31,0,0,0,12,6.5,5.46,5.46,0,0,0,6.5,12Z\"/>\n",
              "  </svg>\n",
              "    </button>\n",
              "    <script>\n",
              "      (() => {\n",
              "      const buttonEl =\n",
              "        document.querySelector('#id_7e308d0a-a4f8-4a32-a783-cbb545530bb8 button.colab-df-generate');\n",
              "      buttonEl.style.display =\n",
              "        google.colab.kernel.accessAllowed ? 'block' : 'none';\n",
              "\n",
              "      buttonEl.onclick = () => {\n",
              "        google.colab.notebook.generateWithVariable('data');\n",
              "      }\n",
              "      })();\n",
              "    </script>\n",
              "  </div>\n",
              "\n",
              "    </div>\n",
              "  </div>\n"
            ],
            "text/plain": [
              "                                             image_path   class_label\n",
              "0     /content/drive/MyDrive/Tuberculosis_final - Co...  Tuberculosis\n",
              "1     /content/drive/MyDrive/Tuberculosis_final - Co...        Normal\n",
              "2     /content/drive/MyDrive/Tuberculosis_final - Co...  Tuberculosis\n",
              "3     /content/drive/MyDrive/Tuberculosis_final - Co...  Tuberculosis\n",
              "4     /content/drive/MyDrive/Tuberculosis_final - Co...  Tuberculosis\n",
              "...                                                 ...           ...\n",
              "5415  /content/drive/MyDrive/Tuberculosis_final - Co...  Tuberculosis\n",
              "5416  /content/drive/MyDrive/Tuberculosis_final - Co...        Normal\n",
              "5417  /content/drive/MyDrive/Tuberculosis_final - Co...        Normal\n",
              "5418  /content/drive/MyDrive/Tuberculosis_final - Co...  Tuberculosis\n",
              "5419  /content/drive/MyDrive/Tuberculosis_final - Co...        Normal\n",
              "\n",
              "[5420 rows x 2 columns]"
            ]
          },
          "execution_count": 11,
          "metadata": {},
          "output_type": "execute_result"
        }
      ],
      "source": [
        "data"
      ]
    },
    {
      "cell_type": "code",
      "execution_count": null,
      "metadata": {
        "colab": {
          "base_uri": "https://localhost:8080/"
        },
        "id": "XnebT6ppyyaG",
        "outputId": "d3b7cc08-ccfa-41c2-e4b0-629e2d3e67b3"
      },
      "outputs": [
        {
          "data": {
            "text/plain": [
              "class_label\n",
              "Normal          3504\n",
              "Tuberculosis    1916\n",
              "Name: count, dtype: int64"
            ]
          },
          "execution_count": 12,
          "metadata": {},
          "output_type": "execute_result"
        }
      ],
      "source": [
        "data.class_label.value_counts()"
      ]
    },
    {
      "cell_type": "code",
      "execution_count": null,
      "metadata": {
        "id": "QTwpR057y2me"
      },
      "outputs": [],
      "source": [
        "df_c0 = data[data['class_label'] ==\"Tuberculosis\"]\n",
        "df_c1 = data[data['class_label'] ==\"Normal\"]"
      ]
    },
    {
      "cell_type": "code",
      "execution_count": null,
      "metadata": {
        "id": "GLvKUuDuy6IG"
      },
      "outputs": [],
      "source": [
        "from sklearn.utils import resample\n",
        "unsampled_df_c0 = resample(df_c0, replace=True, random_state=23, n_samples=1916)\n",
        "unsampled_df_c1 = resample(df_c1, replace=True, random_state=23, n_samples=3500)\n",
        "#each containing 100 samples randomly drawn with replacement from their respective original datasets"
      ]
    },
    {
      "cell_type": "code",
      "execution_count": null,
      "metadata": {
        "colab": {
          "base_uri": "https://localhost:8080/",
          "height": 423
        },
        "id": "NCGG1geBy-De",
        "outputId": "708ad52c-f9d7-44b9-fad0-e4121a1fcf90"
      },
      "outputs": [
        {
          "data": {
            "application/vnd.google.colaboratory.intrinsic+json": {
              "summary": "{\n  \"name\": \"df_unsampled\",\n  \"rows\": 5416,\n  \"fields\": [\n    {\n      \"column\": \"image_path\",\n      \"properties\": {\n        \"dtype\": \"string\",\n        \"num_unique_values\": 3404,\n        \"samples\": [\n          \"/content/drive/MyDrive/Tuberculosis_final - Copy/TB_Chest_Radiography_Database/Tuberculosis/Tuberculosis-203.png\",\n          \"/content/drive/MyDrive/Tuberculosis_final - Copy/TB_Chest_Radiography_Database/Tuberculosis/439.jpg\",\n          \"/content/drive/MyDrive/Tuberculosis_final - Copy/TB_Chest_Radiography_Database/Normal/Normal-1138.png\"\n        ],\n        \"semantic_type\": \"\",\n        \"description\": \"\"\n      }\n    },\n    {\n      \"column\": \"class_label\",\n      \"properties\": {\n        \"dtype\": \"category\",\n        \"num_unique_values\": 2,\n        \"samples\": [\n          \"Normal\",\n          \"Tuberculosis\"\n        ],\n        \"semantic_type\": \"\",\n        \"description\": \"\"\n      }\n    }\n  ]\n}",
              "type": "dataframe",
              "variable_name": "df_unsampled"
            },
            "text/html": [
              "\n",
              "  <div id=\"df-fcc706d1-d532-4d18-b6ed-1328b88cd55a\" class=\"colab-df-container\">\n",
              "    <div>\n",
              "<style scoped>\n",
              "    .dataframe tbody tr th:only-of-type {\n",
              "        vertical-align: middle;\n",
              "    }\n",
              "\n",
              "    .dataframe tbody tr th {\n",
              "        vertical-align: top;\n",
              "    }\n",
              "\n",
              "    .dataframe thead th {\n",
              "        text-align: right;\n",
              "    }\n",
              "</style>\n",
              "<table border=\"1\" class=\"dataframe\">\n",
              "  <thead>\n",
              "    <tr style=\"text-align: right;\">\n",
              "      <th></th>\n",
              "      <th>image_path</th>\n",
              "      <th>class_label</th>\n",
              "    </tr>\n",
              "  </thead>\n",
              "  <tbody>\n",
              "    <tr>\n",
              "      <th>1724</th>\n",
              "      <td>/content/drive/MyDrive/Tuberculosis_final - Co...</td>\n",
              "      <td>Tuberculosis</td>\n",
              "    </tr>\n",
              "    <tr>\n",
              "      <th>2127</th>\n",
              "      <td>/content/drive/MyDrive/Tuberculosis_final - Co...</td>\n",
              "      <td>Tuberculosis</td>\n",
              "    </tr>\n",
              "    <tr>\n",
              "      <th>3062</th>\n",
              "      <td>/content/drive/MyDrive/Tuberculosis_final - Co...</td>\n",
              "      <td>Tuberculosis</td>\n",
              "    </tr>\n",
              "    <tr>\n",
              "      <th>2739</th>\n",
              "      <td>/content/drive/MyDrive/Tuberculosis_final - Co...</td>\n",
              "      <td>Tuberculosis</td>\n",
              "    </tr>\n",
              "    <tr>\n",
              "      <th>4299</th>\n",
              "      <td>/content/drive/MyDrive/Tuberculosis_final - Co...</td>\n",
              "      <td>Tuberculosis</td>\n",
              "    </tr>\n",
              "    <tr>\n",
              "      <th>...</th>\n",
              "      <td>...</td>\n",
              "      <td>...</td>\n",
              "    </tr>\n",
              "    <tr>\n",
              "      <th>1677</th>\n",
              "      <td>/content/drive/MyDrive/Tuberculosis_final - Co...</td>\n",
              "      <td>Normal</td>\n",
              "    </tr>\n",
              "    <tr>\n",
              "      <th>2170</th>\n",
              "      <td>/content/drive/MyDrive/Tuberculosis_final - Co...</td>\n",
              "      <td>Normal</td>\n",
              "    </tr>\n",
              "    <tr>\n",
              "      <th>4916</th>\n",
              "      <td>/content/drive/MyDrive/Tuberculosis_final - Co...</td>\n",
              "      <td>Normal</td>\n",
              "    </tr>\n",
              "    <tr>\n",
              "      <th>4916</th>\n",
              "      <td>/content/drive/MyDrive/Tuberculosis_final - Co...</td>\n",
              "      <td>Normal</td>\n",
              "    </tr>\n",
              "    <tr>\n",
              "      <th>4674</th>\n",
              "      <td>/content/drive/MyDrive/Tuberculosis_final - Co...</td>\n",
              "      <td>Normal</td>\n",
              "    </tr>\n",
              "  </tbody>\n",
              "</table>\n",
              "<p>5416 rows × 2 columns</p>\n",
              "</div>\n",
              "    <div class=\"colab-df-buttons\">\n",
              "\n",
              "  <div class=\"colab-df-container\">\n",
              "    <button class=\"colab-df-convert\" onclick=\"convertToInteractive('df-fcc706d1-d532-4d18-b6ed-1328b88cd55a')\"\n",
              "            title=\"Convert this dataframe to an interactive table.\"\n",
              "            style=\"display:none;\">\n",
              "\n",
              "  <svg xmlns=\"http://www.w3.org/2000/svg\" height=\"24px\" viewBox=\"0 -960 960 960\">\n",
              "    <path d=\"M120-120v-720h720v720H120Zm60-500h600v-160H180v160Zm220 220h160v-160H400v160Zm0 220h160v-160H400v160ZM180-400h160v-160H180v160Zm440 0h160v-160H620v160ZM180-180h160v-160H180v160Zm440 0h160v-160H620v160Z\"/>\n",
              "  </svg>\n",
              "    </button>\n",
              "\n",
              "  <style>\n",
              "    .colab-df-container {\n",
              "      display:flex;\n",
              "      gap: 12px;\n",
              "    }\n",
              "\n",
              "    .colab-df-convert {\n",
              "      background-color: #E8F0FE;\n",
              "      border: none;\n",
              "      border-radius: 50%;\n",
              "      cursor: pointer;\n",
              "      display: none;\n",
              "      fill: #1967D2;\n",
              "      height: 32px;\n",
              "      padding: 0 0 0 0;\n",
              "      width: 32px;\n",
              "    }\n",
              "\n",
              "    .colab-df-convert:hover {\n",
              "      background-color: #E2EBFA;\n",
              "      box-shadow: 0px 1px 2px rgba(60, 64, 67, 0.3), 0px 1px 3px 1px rgba(60, 64, 67, 0.15);\n",
              "      fill: #174EA6;\n",
              "    }\n",
              "\n",
              "    .colab-df-buttons div {\n",
              "      margin-bottom: 4px;\n",
              "    }\n",
              "\n",
              "    [theme=dark] .colab-df-convert {\n",
              "      background-color: #3B4455;\n",
              "      fill: #D2E3FC;\n",
              "    }\n",
              "\n",
              "    [theme=dark] .colab-df-convert:hover {\n",
              "      background-color: #434B5C;\n",
              "      box-shadow: 0px 1px 3px 1px rgba(0, 0, 0, 0.15);\n",
              "      filter: drop-shadow(0px 1px 2px rgba(0, 0, 0, 0.3));\n",
              "      fill: #FFFFFF;\n",
              "    }\n",
              "  </style>\n",
              "\n",
              "    <script>\n",
              "      const buttonEl =\n",
              "        document.querySelector('#df-fcc706d1-d532-4d18-b6ed-1328b88cd55a button.colab-df-convert');\n",
              "      buttonEl.style.display =\n",
              "        google.colab.kernel.accessAllowed ? 'block' : 'none';\n",
              "\n",
              "      async function convertToInteractive(key) {\n",
              "        const element = document.querySelector('#df-fcc706d1-d532-4d18-b6ed-1328b88cd55a');\n",
              "        const dataTable =\n",
              "          await google.colab.kernel.invokeFunction('convertToInteractive',\n",
              "                                                    [key], {});\n",
              "        if (!dataTable) return;\n",
              "\n",
              "        const docLinkHtml = 'Like what you see? Visit the ' +\n",
              "          '<a target=\"_blank\" href=https://colab.research.google.com/notebooks/data_table.ipynb>data table notebook</a>'\n",
              "          + ' to learn more about interactive tables.';\n",
              "        element.innerHTML = '';\n",
              "        dataTable['output_type'] = 'display_data';\n",
              "        await google.colab.output.renderOutput(dataTable, element);\n",
              "        const docLink = document.createElement('div');\n",
              "        docLink.innerHTML = docLinkHtml;\n",
              "        element.appendChild(docLink);\n",
              "      }\n",
              "    </script>\n",
              "  </div>\n",
              "\n",
              "\n",
              "<div id=\"df-1ed6c2fa-57d9-4404-8c7d-4977df5cc115\">\n",
              "  <button class=\"colab-df-quickchart\" onclick=\"quickchart('df-1ed6c2fa-57d9-4404-8c7d-4977df5cc115')\"\n",
              "            title=\"Suggest charts\"\n",
              "            style=\"display:none;\">\n",
              "\n",
              "<svg xmlns=\"http://www.w3.org/2000/svg\" height=\"24px\"viewBox=\"0 0 24 24\"\n",
              "     width=\"24px\">\n",
              "    <g>\n",
              "        <path d=\"M19 3H5c-1.1 0-2 .9-2 2v14c0 1.1.9 2 2 2h14c1.1 0 2-.9 2-2V5c0-1.1-.9-2-2-2zM9 17H7v-7h2v7zm4 0h-2V7h2v10zm4 0h-2v-4h2v4z\"/>\n",
              "    </g>\n",
              "</svg>\n",
              "  </button>\n",
              "\n",
              "<style>\n",
              "  .colab-df-quickchart {\n",
              "      --bg-color: #E8F0FE;\n",
              "      --fill-color: #1967D2;\n",
              "      --hover-bg-color: #E2EBFA;\n",
              "      --hover-fill-color: #174EA6;\n",
              "      --disabled-fill-color: #AAA;\n",
              "      --disabled-bg-color: #DDD;\n",
              "  }\n",
              "\n",
              "  [theme=dark] .colab-df-quickchart {\n",
              "      --bg-color: #3B4455;\n",
              "      --fill-color: #D2E3FC;\n",
              "      --hover-bg-color: #434B5C;\n",
              "      --hover-fill-color: #FFFFFF;\n",
              "      --disabled-bg-color: #3B4455;\n",
              "      --disabled-fill-color: #666;\n",
              "  }\n",
              "\n",
              "  .colab-df-quickchart {\n",
              "    background-color: var(--bg-color);\n",
              "    border: none;\n",
              "    border-radius: 50%;\n",
              "    cursor: pointer;\n",
              "    display: none;\n",
              "    fill: var(--fill-color);\n",
              "    height: 32px;\n",
              "    padding: 0;\n",
              "    width: 32px;\n",
              "  }\n",
              "\n",
              "  .colab-df-quickchart:hover {\n",
              "    background-color: var(--hover-bg-color);\n",
              "    box-shadow: 0 1px 2px rgba(60, 64, 67, 0.3), 0 1px 3px 1px rgba(60, 64, 67, 0.15);\n",
              "    fill: var(--button-hover-fill-color);\n",
              "  }\n",
              "\n",
              "  .colab-df-quickchart-complete:disabled,\n",
              "  .colab-df-quickchart-complete:disabled:hover {\n",
              "    background-color: var(--disabled-bg-color);\n",
              "    fill: var(--disabled-fill-color);\n",
              "    box-shadow: none;\n",
              "  }\n",
              "\n",
              "  .colab-df-spinner {\n",
              "    border: 2px solid var(--fill-color);\n",
              "    border-color: transparent;\n",
              "    border-bottom-color: var(--fill-color);\n",
              "    animation:\n",
              "      spin 1s steps(1) infinite;\n",
              "  }\n",
              "\n",
              "  @keyframes spin {\n",
              "    0% {\n",
              "      border-color: transparent;\n",
              "      border-bottom-color: var(--fill-color);\n",
              "      border-left-color: var(--fill-color);\n",
              "    }\n",
              "    20% {\n",
              "      border-color: transparent;\n",
              "      border-left-color: var(--fill-color);\n",
              "      border-top-color: var(--fill-color);\n",
              "    }\n",
              "    30% {\n",
              "      border-color: transparent;\n",
              "      border-left-color: var(--fill-color);\n",
              "      border-top-color: var(--fill-color);\n",
              "      border-right-color: var(--fill-color);\n",
              "    }\n",
              "    40% {\n",
              "      border-color: transparent;\n",
              "      border-right-color: var(--fill-color);\n",
              "      border-top-color: var(--fill-color);\n",
              "    }\n",
              "    60% {\n",
              "      border-color: transparent;\n",
              "      border-right-color: var(--fill-color);\n",
              "    }\n",
              "    80% {\n",
              "      border-color: transparent;\n",
              "      border-right-color: var(--fill-color);\n",
              "      border-bottom-color: var(--fill-color);\n",
              "    }\n",
              "    90% {\n",
              "      border-color: transparent;\n",
              "      border-bottom-color: var(--fill-color);\n",
              "    }\n",
              "  }\n",
              "</style>\n",
              "\n",
              "  <script>\n",
              "    async function quickchart(key) {\n",
              "      const quickchartButtonEl =\n",
              "        document.querySelector('#' + key + ' button');\n",
              "      quickchartButtonEl.disabled = true;  // To prevent multiple clicks.\n",
              "      quickchartButtonEl.classList.add('colab-df-spinner');\n",
              "      try {\n",
              "        const charts = await google.colab.kernel.invokeFunction(\n",
              "            'suggestCharts', [key], {});\n",
              "      } catch (error) {\n",
              "        console.error('Error during call to suggestCharts:', error);\n",
              "      }\n",
              "      quickchartButtonEl.classList.remove('colab-df-spinner');\n",
              "      quickchartButtonEl.classList.add('colab-df-quickchart-complete');\n",
              "    }\n",
              "    (() => {\n",
              "      let quickchartButtonEl =\n",
              "        document.querySelector('#df-1ed6c2fa-57d9-4404-8c7d-4977df5cc115 button');\n",
              "      quickchartButtonEl.style.display =\n",
              "        google.colab.kernel.accessAllowed ? 'block' : 'none';\n",
              "    })();\n",
              "  </script>\n",
              "</div>\n",
              "\n",
              "  <div id=\"id_258f67a4-422c-4b50-b240-b1f3f16c9903\">\n",
              "    <style>\n",
              "      .colab-df-generate {\n",
              "        background-color: #E8F0FE;\n",
              "        border: none;\n",
              "        border-radius: 50%;\n",
              "        cursor: pointer;\n",
              "        display: none;\n",
              "        fill: #1967D2;\n",
              "        height: 32px;\n",
              "        padding: 0 0 0 0;\n",
              "        width: 32px;\n",
              "      }\n",
              "\n",
              "      .colab-df-generate:hover {\n",
              "        background-color: #E2EBFA;\n",
              "        box-shadow: 0px 1px 2px rgba(60, 64, 67, 0.3), 0px 1px 3px 1px rgba(60, 64, 67, 0.15);\n",
              "        fill: #174EA6;\n",
              "      }\n",
              "\n",
              "      [theme=dark] .colab-df-generate {\n",
              "        background-color: #3B4455;\n",
              "        fill: #D2E3FC;\n",
              "      }\n",
              "\n",
              "      [theme=dark] .colab-df-generate:hover {\n",
              "        background-color: #434B5C;\n",
              "        box-shadow: 0px 1px 3px 1px rgba(0, 0, 0, 0.15);\n",
              "        filter: drop-shadow(0px 1px 2px rgba(0, 0, 0, 0.3));\n",
              "        fill: #FFFFFF;\n",
              "      }\n",
              "    </style>\n",
              "    <button class=\"colab-df-generate\" onclick=\"generateWithVariable('df_unsampled')\"\n",
              "            title=\"Generate code using this dataframe.\"\n",
              "            style=\"display:none;\">\n",
              "\n",
              "  <svg xmlns=\"http://www.w3.org/2000/svg\" height=\"24px\"viewBox=\"0 0 24 24\"\n",
              "       width=\"24px\">\n",
              "    <path d=\"M7,19H8.4L18.45,9,17,7.55,7,17.6ZM5,21V16.75L18.45,3.32a2,2,0,0,1,2.83,0l1.4,1.43a1.91,1.91,0,0,1,.58,1.4,1.91,1.91,0,0,1-.58,1.4L9.25,21ZM18.45,9,17,7.55Zm-12,3A5.31,5.31,0,0,0,4.9,8.1,5.31,5.31,0,0,0,1,6.5,5.31,5.31,0,0,0,4.9,4.9,5.31,5.31,0,0,0,6.5,1,5.31,5.31,0,0,0,8.1,4.9,5.31,5.31,0,0,0,12,6.5,5.46,5.46,0,0,0,6.5,12Z\"/>\n",
              "  </svg>\n",
              "    </button>\n",
              "    <script>\n",
              "      (() => {\n",
              "      const buttonEl =\n",
              "        document.querySelector('#id_258f67a4-422c-4b50-b240-b1f3f16c9903 button.colab-df-generate');\n",
              "      buttonEl.style.display =\n",
              "        google.colab.kernel.accessAllowed ? 'block' : 'none';\n",
              "\n",
              "      buttonEl.onclick = () => {\n",
              "        google.colab.notebook.generateWithVariable('df_unsampled');\n",
              "      }\n",
              "      })();\n",
              "    </script>\n",
              "  </div>\n",
              "\n",
              "    </div>\n",
              "  </div>\n"
            ],
            "text/plain": [
              "                                             image_path   class_label\n",
              "1724  /content/drive/MyDrive/Tuberculosis_final - Co...  Tuberculosis\n",
              "2127  /content/drive/MyDrive/Tuberculosis_final - Co...  Tuberculosis\n",
              "3062  /content/drive/MyDrive/Tuberculosis_final - Co...  Tuberculosis\n",
              "2739  /content/drive/MyDrive/Tuberculosis_final - Co...  Tuberculosis\n",
              "4299  /content/drive/MyDrive/Tuberculosis_final - Co...  Tuberculosis\n",
              "...                                                 ...           ...\n",
              "1677  /content/drive/MyDrive/Tuberculosis_final - Co...        Normal\n",
              "2170  /content/drive/MyDrive/Tuberculosis_final - Co...        Normal\n",
              "4916  /content/drive/MyDrive/Tuberculosis_final - Co...        Normal\n",
              "4916  /content/drive/MyDrive/Tuberculosis_final - Co...        Normal\n",
              "4674  /content/drive/MyDrive/Tuberculosis_final - Co...        Normal\n",
              "\n",
              "[5416 rows x 2 columns]"
            ]
          },
          "execution_count": 15,
          "metadata": {},
          "output_type": "execute_result"
        }
      ],
      "source": [
        "df_unsampled = pd.concat([unsampled_df_c0, unsampled_df_c1])\n",
        "df_unsampled"
      ]
    },
    {
      "cell_type": "code",
      "execution_count": null,
      "metadata": {
        "colab": {
          "base_uri": "https://localhost:8080/",
          "height": 206
        },
        "id": "eE9dyO_Hzd41",
        "outputId": "f2f24afb-a966-4b8c-e59e-cd79da2c16d0"
      },
      "outputs": [
        {
          "data": {
            "application/vnd.google.colaboratory.intrinsic+json": {
              "summary": "{\n  \"name\": \"df_unsampled\",\n  \"rows\": 5416,\n  \"fields\": [\n    {\n      \"column\": \"image_path\",\n      \"properties\": {\n        \"dtype\": \"string\",\n        \"num_unique_values\": 3404,\n        \"samples\": [\n          \"/content/drive/MyDrive/Tuberculosis_final - Copy/TB_Chest_Radiography_Database/Tuberculosis/Tuberculosis-203.png\",\n          \"/content/drive/MyDrive/Tuberculosis_final - Copy/TB_Chest_Radiography_Database/Tuberculosis/439.jpg\",\n          \"/content/drive/MyDrive/Tuberculosis_final - Copy/TB_Chest_Radiography_Database/Normal/Normal-1138.png\"\n        ],\n        \"semantic_type\": \"\",\n        \"description\": \"\"\n      }\n    },\n    {\n      \"column\": \"class_label\",\n      \"properties\": {\n        \"dtype\": \"category\",\n        \"num_unique_values\": 2,\n        \"samples\": [\n          \"Normal\",\n          \"Tuberculosis\"\n        ],\n        \"semantic_type\": \"\",\n        \"description\": \"\"\n      }\n    }\n  ]\n}",
              "type": "dataframe",
              "variable_name": "df_unsampled"
            },
            "text/html": [
              "\n",
              "  <div id=\"df-ce471177-4c77-4c82-9c01-e9381c93e160\" class=\"colab-df-container\">\n",
              "    <div>\n",
              "<style scoped>\n",
              "    .dataframe tbody tr th:only-of-type {\n",
              "        vertical-align: middle;\n",
              "    }\n",
              "\n",
              "    .dataframe tbody tr th {\n",
              "        vertical-align: top;\n",
              "    }\n",
              "\n",
              "    .dataframe thead th {\n",
              "        text-align: right;\n",
              "    }\n",
              "</style>\n",
              "<table border=\"1\" class=\"dataframe\">\n",
              "  <thead>\n",
              "    <tr style=\"text-align: right;\">\n",
              "      <th></th>\n",
              "      <th>image_path</th>\n",
              "      <th>class_label</th>\n",
              "    </tr>\n",
              "  </thead>\n",
              "  <tbody>\n",
              "    <tr>\n",
              "      <th>1724</th>\n",
              "      <td>/content/drive/MyDrive/Tuberculosis_final - Co...</td>\n",
              "      <td>Tuberculosis</td>\n",
              "    </tr>\n",
              "    <tr>\n",
              "      <th>2127</th>\n",
              "      <td>/content/drive/MyDrive/Tuberculosis_final - Co...</td>\n",
              "      <td>Tuberculosis</td>\n",
              "    </tr>\n",
              "    <tr>\n",
              "      <th>3062</th>\n",
              "      <td>/content/drive/MyDrive/Tuberculosis_final - Co...</td>\n",
              "      <td>Tuberculosis</td>\n",
              "    </tr>\n",
              "    <tr>\n",
              "      <th>2739</th>\n",
              "      <td>/content/drive/MyDrive/Tuberculosis_final - Co...</td>\n",
              "      <td>Tuberculosis</td>\n",
              "    </tr>\n",
              "    <tr>\n",
              "      <th>4299</th>\n",
              "      <td>/content/drive/MyDrive/Tuberculosis_final - Co...</td>\n",
              "      <td>Tuberculosis</td>\n",
              "    </tr>\n",
              "  </tbody>\n",
              "</table>\n",
              "</div>\n",
              "    <div class=\"colab-df-buttons\">\n",
              "\n",
              "  <div class=\"colab-df-container\">\n",
              "    <button class=\"colab-df-convert\" onclick=\"convertToInteractive('df-ce471177-4c77-4c82-9c01-e9381c93e160')\"\n",
              "            title=\"Convert this dataframe to an interactive table.\"\n",
              "            style=\"display:none;\">\n",
              "\n",
              "  <svg xmlns=\"http://www.w3.org/2000/svg\" height=\"24px\" viewBox=\"0 -960 960 960\">\n",
              "    <path d=\"M120-120v-720h720v720H120Zm60-500h600v-160H180v160Zm220 220h160v-160H400v160Zm0 220h160v-160H400v160ZM180-400h160v-160H180v160Zm440 0h160v-160H620v160ZM180-180h160v-160H180v160Zm440 0h160v-160H620v160Z\"/>\n",
              "  </svg>\n",
              "    </button>\n",
              "\n",
              "  <style>\n",
              "    .colab-df-container {\n",
              "      display:flex;\n",
              "      gap: 12px;\n",
              "    }\n",
              "\n",
              "    .colab-df-convert {\n",
              "      background-color: #E8F0FE;\n",
              "      border: none;\n",
              "      border-radius: 50%;\n",
              "      cursor: pointer;\n",
              "      display: none;\n",
              "      fill: #1967D2;\n",
              "      height: 32px;\n",
              "      padding: 0 0 0 0;\n",
              "      width: 32px;\n",
              "    }\n",
              "\n",
              "    .colab-df-convert:hover {\n",
              "      background-color: #E2EBFA;\n",
              "      box-shadow: 0px 1px 2px rgba(60, 64, 67, 0.3), 0px 1px 3px 1px rgba(60, 64, 67, 0.15);\n",
              "      fill: #174EA6;\n",
              "    }\n",
              "\n",
              "    .colab-df-buttons div {\n",
              "      margin-bottom: 4px;\n",
              "    }\n",
              "\n",
              "    [theme=dark] .colab-df-convert {\n",
              "      background-color: #3B4455;\n",
              "      fill: #D2E3FC;\n",
              "    }\n",
              "\n",
              "    [theme=dark] .colab-df-convert:hover {\n",
              "      background-color: #434B5C;\n",
              "      box-shadow: 0px 1px 3px 1px rgba(0, 0, 0, 0.15);\n",
              "      filter: drop-shadow(0px 1px 2px rgba(0, 0, 0, 0.3));\n",
              "      fill: #FFFFFF;\n",
              "    }\n",
              "  </style>\n",
              "\n",
              "    <script>\n",
              "      const buttonEl =\n",
              "        document.querySelector('#df-ce471177-4c77-4c82-9c01-e9381c93e160 button.colab-df-convert');\n",
              "      buttonEl.style.display =\n",
              "        google.colab.kernel.accessAllowed ? 'block' : 'none';\n",
              "\n",
              "      async function convertToInteractive(key) {\n",
              "        const element = document.querySelector('#df-ce471177-4c77-4c82-9c01-e9381c93e160');\n",
              "        const dataTable =\n",
              "          await google.colab.kernel.invokeFunction('convertToInteractive',\n",
              "                                                    [key], {});\n",
              "        if (!dataTable) return;\n",
              "\n",
              "        const docLinkHtml = 'Like what you see? Visit the ' +\n",
              "          '<a target=\"_blank\" href=https://colab.research.google.com/notebooks/data_table.ipynb>data table notebook</a>'\n",
              "          + ' to learn more about interactive tables.';\n",
              "        element.innerHTML = '';\n",
              "        dataTable['output_type'] = 'display_data';\n",
              "        await google.colab.output.renderOutput(dataTable, element);\n",
              "        const docLink = document.createElement('div');\n",
              "        docLink.innerHTML = docLinkHtml;\n",
              "        element.appendChild(docLink);\n",
              "      }\n",
              "    </script>\n",
              "  </div>\n",
              "\n",
              "\n",
              "<div id=\"df-d32e2897-f9d2-4062-bc06-4f2d8586be4e\">\n",
              "  <button class=\"colab-df-quickchart\" onclick=\"quickchart('df-d32e2897-f9d2-4062-bc06-4f2d8586be4e')\"\n",
              "            title=\"Suggest charts\"\n",
              "            style=\"display:none;\">\n",
              "\n",
              "<svg xmlns=\"http://www.w3.org/2000/svg\" height=\"24px\"viewBox=\"0 0 24 24\"\n",
              "     width=\"24px\">\n",
              "    <g>\n",
              "        <path d=\"M19 3H5c-1.1 0-2 .9-2 2v14c0 1.1.9 2 2 2h14c1.1 0 2-.9 2-2V5c0-1.1-.9-2-2-2zM9 17H7v-7h2v7zm4 0h-2V7h2v10zm4 0h-2v-4h2v4z\"/>\n",
              "    </g>\n",
              "</svg>\n",
              "  </button>\n",
              "\n",
              "<style>\n",
              "  .colab-df-quickchart {\n",
              "      --bg-color: #E8F0FE;\n",
              "      --fill-color: #1967D2;\n",
              "      --hover-bg-color: #E2EBFA;\n",
              "      --hover-fill-color: #174EA6;\n",
              "      --disabled-fill-color: #AAA;\n",
              "      --disabled-bg-color: #DDD;\n",
              "  }\n",
              "\n",
              "  [theme=dark] .colab-df-quickchart {\n",
              "      --bg-color: #3B4455;\n",
              "      --fill-color: #D2E3FC;\n",
              "      --hover-bg-color: #434B5C;\n",
              "      --hover-fill-color: #FFFFFF;\n",
              "      --disabled-bg-color: #3B4455;\n",
              "      --disabled-fill-color: #666;\n",
              "  }\n",
              "\n",
              "  .colab-df-quickchart {\n",
              "    background-color: var(--bg-color);\n",
              "    border: none;\n",
              "    border-radius: 50%;\n",
              "    cursor: pointer;\n",
              "    display: none;\n",
              "    fill: var(--fill-color);\n",
              "    height: 32px;\n",
              "    padding: 0;\n",
              "    width: 32px;\n",
              "  }\n",
              "\n",
              "  .colab-df-quickchart:hover {\n",
              "    background-color: var(--hover-bg-color);\n",
              "    box-shadow: 0 1px 2px rgba(60, 64, 67, 0.3), 0 1px 3px 1px rgba(60, 64, 67, 0.15);\n",
              "    fill: var(--button-hover-fill-color);\n",
              "  }\n",
              "\n",
              "  .colab-df-quickchart-complete:disabled,\n",
              "  .colab-df-quickchart-complete:disabled:hover {\n",
              "    background-color: var(--disabled-bg-color);\n",
              "    fill: var(--disabled-fill-color);\n",
              "    box-shadow: none;\n",
              "  }\n",
              "\n",
              "  .colab-df-spinner {\n",
              "    border: 2px solid var(--fill-color);\n",
              "    border-color: transparent;\n",
              "    border-bottom-color: var(--fill-color);\n",
              "    animation:\n",
              "      spin 1s steps(1) infinite;\n",
              "  }\n",
              "\n",
              "  @keyframes spin {\n",
              "    0% {\n",
              "      border-color: transparent;\n",
              "      border-bottom-color: var(--fill-color);\n",
              "      border-left-color: var(--fill-color);\n",
              "    }\n",
              "    20% {\n",
              "      border-color: transparent;\n",
              "      border-left-color: var(--fill-color);\n",
              "      border-top-color: var(--fill-color);\n",
              "    }\n",
              "    30% {\n",
              "      border-color: transparent;\n",
              "      border-left-color: var(--fill-color);\n",
              "      border-top-color: var(--fill-color);\n",
              "      border-right-color: var(--fill-color);\n",
              "    }\n",
              "    40% {\n",
              "      border-color: transparent;\n",
              "      border-right-color: var(--fill-color);\n",
              "      border-top-color: var(--fill-color);\n",
              "    }\n",
              "    60% {\n",
              "      border-color: transparent;\n",
              "      border-right-color: var(--fill-color);\n",
              "    }\n",
              "    80% {\n",
              "      border-color: transparent;\n",
              "      border-right-color: var(--fill-color);\n",
              "      border-bottom-color: var(--fill-color);\n",
              "    }\n",
              "    90% {\n",
              "      border-color: transparent;\n",
              "      border-bottom-color: var(--fill-color);\n",
              "    }\n",
              "  }\n",
              "</style>\n",
              "\n",
              "  <script>\n",
              "    async function quickchart(key) {\n",
              "      const quickchartButtonEl =\n",
              "        document.querySelector('#' + key + ' button');\n",
              "      quickchartButtonEl.disabled = true;  // To prevent multiple clicks.\n",
              "      quickchartButtonEl.classList.add('colab-df-spinner');\n",
              "      try {\n",
              "        const charts = await google.colab.kernel.invokeFunction(\n",
              "            'suggestCharts', [key], {});\n",
              "      } catch (error) {\n",
              "        console.error('Error during call to suggestCharts:', error);\n",
              "      }\n",
              "      quickchartButtonEl.classList.remove('colab-df-spinner');\n",
              "      quickchartButtonEl.classList.add('colab-df-quickchart-complete');\n",
              "    }\n",
              "    (() => {\n",
              "      let quickchartButtonEl =\n",
              "        document.querySelector('#df-d32e2897-f9d2-4062-bc06-4f2d8586be4e button');\n",
              "      quickchartButtonEl.style.display =\n",
              "        google.colab.kernel.accessAllowed ? 'block' : 'none';\n",
              "    })();\n",
              "  </script>\n",
              "</div>\n",
              "\n",
              "    </div>\n",
              "  </div>\n"
            ],
            "text/plain": [
              "                                             image_path   class_label\n",
              "1724  /content/drive/MyDrive/Tuberculosis_final - Co...  Tuberculosis\n",
              "2127  /content/drive/MyDrive/Tuberculosis_final - Co...  Tuberculosis\n",
              "3062  /content/drive/MyDrive/Tuberculosis_final - Co...  Tuberculosis\n",
              "2739  /content/drive/MyDrive/Tuberculosis_final - Co...  Tuberculosis\n",
              "4299  /content/drive/MyDrive/Tuberculosis_final - Co...  Tuberculosis"
            ]
          },
          "execution_count": 16,
          "metadata": {},
          "output_type": "execute_result"
        }
      ],
      "source": [
        "df_unsampled.head()"
      ]
    },
    {
      "cell_type": "code",
      "execution_count": null,
      "metadata": {
        "colab": {
          "base_uri": "https://localhost:8080/",
          "height": 206
        },
        "id": "lBcgisOozn1t",
        "outputId": "755ced86-26f6-4da0-802e-530b94da8578"
      },
      "outputs": [
        {
          "data": {
            "application/vnd.google.colaboratory.intrinsic+json": {
              "summary": "{\n  \"name\": \"df_unsampled\",\n  \"rows\": 5,\n  \"fields\": [\n    {\n      \"column\": \"image_path\",\n      \"properties\": {\n        \"dtype\": \"string\",\n        \"num_unique_values\": 4,\n        \"samples\": [\n          \"/content/drive/MyDrive/Tuberculosis_final - Copy/TB_Chest_Radiography_Database/Normal/Normal-603.png\",\n          \"/content/drive/MyDrive/Tuberculosis_final - Copy/TB_Chest_Radiography_Database/Normal/Normal-1159.png\",\n          \"/content/drive/MyDrive/Tuberculosis_final - Copy/TB_Chest_Radiography_Database/Normal/Normal-1959.png\"\n        ],\n        \"semantic_type\": \"\",\n        \"description\": \"\"\n      }\n    },\n    {\n      \"column\": \"class_label\",\n      \"properties\": {\n        \"dtype\": \"category\",\n        \"num_unique_values\": 1,\n        \"samples\": [\n          \"Normal\"\n        ],\n        \"semantic_type\": \"\",\n        \"description\": \"\"\n      }\n    }\n  ]\n}",
              "type": "dataframe"
            },
            "text/html": [
              "\n",
              "  <div id=\"df-bcba35c5-75f3-490a-a187-e0a4074e00bd\" class=\"colab-df-container\">\n",
              "    <div>\n",
              "<style scoped>\n",
              "    .dataframe tbody tr th:only-of-type {\n",
              "        vertical-align: middle;\n",
              "    }\n",
              "\n",
              "    .dataframe tbody tr th {\n",
              "        vertical-align: top;\n",
              "    }\n",
              "\n",
              "    .dataframe thead th {\n",
              "        text-align: right;\n",
              "    }\n",
              "</style>\n",
              "<table border=\"1\" class=\"dataframe\">\n",
              "  <thead>\n",
              "    <tr style=\"text-align: right;\">\n",
              "      <th></th>\n",
              "      <th>image_path</th>\n",
              "      <th>class_label</th>\n",
              "    </tr>\n",
              "  </thead>\n",
              "  <tbody>\n",
              "    <tr>\n",
              "      <th>1677</th>\n",
              "      <td>/content/drive/MyDrive/Tuberculosis_final - Co...</td>\n",
              "      <td>Normal</td>\n",
              "    </tr>\n",
              "    <tr>\n",
              "      <th>2170</th>\n",
              "      <td>/content/drive/MyDrive/Tuberculosis_final - Co...</td>\n",
              "      <td>Normal</td>\n",
              "    </tr>\n",
              "    <tr>\n",
              "      <th>4916</th>\n",
              "      <td>/content/drive/MyDrive/Tuberculosis_final - Co...</td>\n",
              "      <td>Normal</td>\n",
              "    </tr>\n",
              "    <tr>\n",
              "      <th>4916</th>\n",
              "      <td>/content/drive/MyDrive/Tuberculosis_final - Co...</td>\n",
              "      <td>Normal</td>\n",
              "    </tr>\n",
              "    <tr>\n",
              "      <th>4674</th>\n",
              "      <td>/content/drive/MyDrive/Tuberculosis_final - Co...</td>\n",
              "      <td>Normal</td>\n",
              "    </tr>\n",
              "  </tbody>\n",
              "</table>\n",
              "</div>\n",
              "    <div class=\"colab-df-buttons\">\n",
              "\n",
              "  <div class=\"colab-df-container\">\n",
              "    <button class=\"colab-df-convert\" onclick=\"convertToInteractive('df-bcba35c5-75f3-490a-a187-e0a4074e00bd')\"\n",
              "            title=\"Convert this dataframe to an interactive table.\"\n",
              "            style=\"display:none;\">\n",
              "\n",
              "  <svg xmlns=\"http://www.w3.org/2000/svg\" height=\"24px\" viewBox=\"0 -960 960 960\">\n",
              "    <path d=\"M120-120v-720h720v720H120Zm60-500h600v-160H180v160Zm220 220h160v-160H400v160Zm0 220h160v-160H400v160ZM180-400h160v-160H180v160Zm440 0h160v-160H620v160ZM180-180h160v-160H180v160Zm440 0h160v-160H620v160Z\"/>\n",
              "  </svg>\n",
              "    </button>\n",
              "\n",
              "  <style>\n",
              "    .colab-df-container {\n",
              "      display:flex;\n",
              "      gap: 12px;\n",
              "    }\n",
              "\n",
              "    .colab-df-convert {\n",
              "      background-color: #E8F0FE;\n",
              "      border: none;\n",
              "      border-radius: 50%;\n",
              "      cursor: pointer;\n",
              "      display: none;\n",
              "      fill: #1967D2;\n",
              "      height: 32px;\n",
              "      padding: 0 0 0 0;\n",
              "      width: 32px;\n",
              "    }\n",
              "\n",
              "    .colab-df-convert:hover {\n",
              "      background-color: #E2EBFA;\n",
              "      box-shadow: 0px 1px 2px rgba(60, 64, 67, 0.3), 0px 1px 3px 1px rgba(60, 64, 67, 0.15);\n",
              "      fill: #174EA6;\n",
              "    }\n",
              "\n",
              "    .colab-df-buttons div {\n",
              "      margin-bottom: 4px;\n",
              "    }\n",
              "\n",
              "    [theme=dark] .colab-df-convert {\n",
              "      background-color: #3B4455;\n",
              "      fill: #D2E3FC;\n",
              "    }\n",
              "\n",
              "    [theme=dark] .colab-df-convert:hover {\n",
              "      background-color: #434B5C;\n",
              "      box-shadow: 0px 1px 3px 1px rgba(0, 0, 0, 0.15);\n",
              "      filter: drop-shadow(0px 1px 2px rgba(0, 0, 0, 0.3));\n",
              "      fill: #FFFFFF;\n",
              "    }\n",
              "  </style>\n",
              "\n",
              "    <script>\n",
              "      const buttonEl =\n",
              "        document.querySelector('#df-bcba35c5-75f3-490a-a187-e0a4074e00bd button.colab-df-convert');\n",
              "      buttonEl.style.display =\n",
              "        google.colab.kernel.accessAllowed ? 'block' : 'none';\n",
              "\n",
              "      async function convertToInteractive(key) {\n",
              "        const element = document.querySelector('#df-bcba35c5-75f3-490a-a187-e0a4074e00bd');\n",
              "        const dataTable =\n",
              "          await google.colab.kernel.invokeFunction('convertToInteractive',\n",
              "                                                    [key], {});\n",
              "        if (!dataTable) return;\n",
              "\n",
              "        const docLinkHtml = 'Like what you see? Visit the ' +\n",
              "          '<a target=\"_blank\" href=https://colab.research.google.com/notebooks/data_table.ipynb>data table notebook</a>'\n",
              "          + ' to learn more about interactive tables.';\n",
              "        element.innerHTML = '';\n",
              "        dataTable['output_type'] = 'display_data';\n",
              "        await google.colab.output.renderOutput(dataTable, element);\n",
              "        const docLink = document.createElement('div');\n",
              "        docLink.innerHTML = docLinkHtml;\n",
              "        element.appendChild(docLink);\n",
              "      }\n",
              "    </script>\n",
              "  </div>\n",
              "\n",
              "\n",
              "<div id=\"df-6ee55faa-4049-4957-9f86-39f27bdaae2e\">\n",
              "  <button class=\"colab-df-quickchart\" onclick=\"quickchart('df-6ee55faa-4049-4957-9f86-39f27bdaae2e')\"\n",
              "            title=\"Suggest charts\"\n",
              "            style=\"display:none;\">\n",
              "\n",
              "<svg xmlns=\"http://www.w3.org/2000/svg\" height=\"24px\"viewBox=\"0 0 24 24\"\n",
              "     width=\"24px\">\n",
              "    <g>\n",
              "        <path d=\"M19 3H5c-1.1 0-2 .9-2 2v14c0 1.1.9 2 2 2h14c1.1 0 2-.9 2-2V5c0-1.1-.9-2-2-2zM9 17H7v-7h2v7zm4 0h-2V7h2v10zm4 0h-2v-4h2v4z\"/>\n",
              "    </g>\n",
              "</svg>\n",
              "  </button>\n",
              "\n",
              "<style>\n",
              "  .colab-df-quickchart {\n",
              "      --bg-color: #E8F0FE;\n",
              "      --fill-color: #1967D2;\n",
              "      --hover-bg-color: #E2EBFA;\n",
              "      --hover-fill-color: #174EA6;\n",
              "      --disabled-fill-color: #AAA;\n",
              "      --disabled-bg-color: #DDD;\n",
              "  }\n",
              "\n",
              "  [theme=dark] .colab-df-quickchart {\n",
              "      --bg-color: #3B4455;\n",
              "      --fill-color: #D2E3FC;\n",
              "      --hover-bg-color: #434B5C;\n",
              "      --hover-fill-color: #FFFFFF;\n",
              "      --disabled-bg-color: #3B4455;\n",
              "      --disabled-fill-color: #666;\n",
              "  }\n",
              "\n",
              "  .colab-df-quickchart {\n",
              "    background-color: var(--bg-color);\n",
              "    border: none;\n",
              "    border-radius: 50%;\n",
              "    cursor: pointer;\n",
              "    display: none;\n",
              "    fill: var(--fill-color);\n",
              "    height: 32px;\n",
              "    padding: 0;\n",
              "    width: 32px;\n",
              "  }\n",
              "\n",
              "  .colab-df-quickchart:hover {\n",
              "    background-color: var(--hover-bg-color);\n",
              "    box-shadow: 0 1px 2px rgba(60, 64, 67, 0.3), 0 1px 3px 1px rgba(60, 64, 67, 0.15);\n",
              "    fill: var(--button-hover-fill-color);\n",
              "  }\n",
              "\n",
              "  .colab-df-quickchart-complete:disabled,\n",
              "  .colab-df-quickchart-complete:disabled:hover {\n",
              "    background-color: var(--disabled-bg-color);\n",
              "    fill: var(--disabled-fill-color);\n",
              "    box-shadow: none;\n",
              "  }\n",
              "\n",
              "  .colab-df-spinner {\n",
              "    border: 2px solid var(--fill-color);\n",
              "    border-color: transparent;\n",
              "    border-bottom-color: var(--fill-color);\n",
              "    animation:\n",
              "      spin 1s steps(1) infinite;\n",
              "  }\n",
              "\n",
              "  @keyframes spin {\n",
              "    0% {\n",
              "      border-color: transparent;\n",
              "      border-bottom-color: var(--fill-color);\n",
              "      border-left-color: var(--fill-color);\n",
              "    }\n",
              "    20% {\n",
              "      border-color: transparent;\n",
              "      border-left-color: var(--fill-color);\n",
              "      border-top-color: var(--fill-color);\n",
              "    }\n",
              "    30% {\n",
              "      border-color: transparent;\n",
              "      border-left-color: var(--fill-color);\n",
              "      border-top-color: var(--fill-color);\n",
              "      border-right-color: var(--fill-color);\n",
              "    }\n",
              "    40% {\n",
              "      border-color: transparent;\n",
              "      border-right-color: var(--fill-color);\n",
              "      border-top-color: var(--fill-color);\n",
              "    }\n",
              "    60% {\n",
              "      border-color: transparent;\n",
              "      border-right-color: var(--fill-color);\n",
              "    }\n",
              "    80% {\n",
              "      border-color: transparent;\n",
              "      border-right-color: var(--fill-color);\n",
              "      border-bottom-color: var(--fill-color);\n",
              "    }\n",
              "    90% {\n",
              "      border-color: transparent;\n",
              "      border-bottom-color: var(--fill-color);\n",
              "    }\n",
              "  }\n",
              "</style>\n",
              "\n",
              "  <script>\n",
              "    async function quickchart(key) {\n",
              "      const quickchartButtonEl =\n",
              "        document.querySelector('#' + key + ' button');\n",
              "      quickchartButtonEl.disabled = true;  // To prevent multiple clicks.\n",
              "      quickchartButtonEl.classList.add('colab-df-spinner');\n",
              "      try {\n",
              "        const charts = await google.colab.kernel.invokeFunction(\n",
              "            'suggestCharts', [key], {});\n",
              "      } catch (error) {\n",
              "        console.error('Error during call to suggestCharts:', error);\n",
              "      }\n",
              "      quickchartButtonEl.classList.remove('colab-df-spinner');\n",
              "      quickchartButtonEl.classList.add('colab-df-quickchart-complete');\n",
              "    }\n",
              "    (() => {\n",
              "      let quickchartButtonEl =\n",
              "        document.querySelector('#df-6ee55faa-4049-4957-9f86-39f27bdaae2e button');\n",
              "      quickchartButtonEl.style.display =\n",
              "        google.colab.kernel.accessAllowed ? 'block' : 'none';\n",
              "    })();\n",
              "  </script>\n",
              "</div>\n",
              "\n",
              "    </div>\n",
              "  </div>\n"
            ],
            "text/plain": [
              "                                             image_path class_label\n",
              "1677  /content/drive/MyDrive/Tuberculosis_final - Co...      Normal\n",
              "2170  /content/drive/MyDrive/Tuberculosis_final - Co...      Normal\n",
              "4916  /content/drive/MyDrive/Tuberculosis_final - Co...      Normal\n",
              "4916  /content/drive/MyDrive/Tuberculosis_final - Co...      Normal\n",
              "4674  /content/drive/MyDrive/Tuberculosis_final - Co...      Normal"
            ]
          },
          "execution_count": 17,
          "metadata": {},
          "output_type": "execute_result"
        }
      ],
      "source": [
        "df_unsampled.tail()"
      ]
    },
    {
      "cell_type": "code",
      "execution_count": null,
      "metadata": {
        "colab": {
          "base_uri": "https://localhost:8080/"
        },
        "id": "1S22Z4iUzsFt",
        "outputId": "eec28d23-2840-4f43-c38c-a235438abb9b"
      },
      "outputs": [
        {
          "data": {
            "text/plain": [
              "class_label\n",
              "Normal          3500\n",
              "Tuberculosis    1916\n",
              "Name: count, dtype: int64"
            ]
          },
          "execution_count": 18,
          "metadata": {},
          "output_type": "execute_result"
        }
      ],
      "source": [
        "df_unsampled.class_label.value_counts()"
      ]
    },
    {
      "cell_type": "code",
      "execution_count": null,
      "metadata": {
        "colab": {
          "base_uri": "https://localhost:8080/"
        },
        "id": "W110GxtIzvmk",
        "outputId": "7dc16573-1799-4212-d158-b223ece84eec"
      },
      "outputs": [
        {
          "data": {
            "text/plain": [
              "(5416, 2)"
            ]
          },
          "execution_count": 19,
          "metadata": {},
          "output_type": "execute_result"
        }
      ],
      "source": [
        "df_unsampled.shape"
      ]
    },
    {
      "cell_type": "code",
      "execution_count": null,
      "metadata": {
        "colab": {
          "base_uri": "https://localhost:8080/"
        },
        "id": "rIvBGvbOzyKU",
        "outputId": "d699e349-2c64-46aa-97f8-3dc161d7060a"
      },
      "outputs": [
        {
          "data": {
            "text/plain": [
              "(5416, 2)"
            ]
          },
          "execution_count": 20,
          "metadata": {},
          "output_type": "execute_result"
        }
      ],
      "source": [
        "data = df_unsampled.sample(frac=1)\n",
        "data.shape"
      ]
    },
    {
      "cell_type": "code",
      "execution_count": null,
      "metadata": {
        "colab": {
          "base_uri": "https://localhost:8080/",
          "height": 363
        },
        "id": "mflie-85z000",
        "outputId": "96cb0108-968f-47ba-995f-96e065a81b78"
      },
      "outputs": [
        {
          "data": {
            "application/vnd.google.colaboratory.intrinsic+json": {
              "summary": "{\n  \"name\": \"data[:10]\",\n  \"rows\": 10,\n  \"fields\": [\n    {\n      \"column\": \"image_path\",\n      \"properties\": {\n        \"dtype\": \"string\",\n        \"num_unique_values\": 10,\n        \"samples\": [\n          \"/content/drive/MyDrive/Tuberculosis_final - Copy/TB_Chest_Radiography_Database/Tuberculosis/211.jpg\",\n          \"/content/drive/MyDrive/Tuberculosis_final - Copy/TB_Chest_Radiography_Database/Normal/Normal-598.png\",\n          \"/content/drive/MyDrive/Tuberculosis_final - Copy/TB_Chest_Radiography_Database/Tuberculosis/511.jpg\"\n        ],\n        \"semantic_type\": \"\",\n        \"description\": \"\"\n      }\n    },\n    {\n      \"column\": \"class_label\",\n      \"properties\": {\n        \"dtype\": \"category\",\n        \"num_unique_values\": 2,\n        \"samples\": [\n          \"Tuberculosis\",\n          \"Normal\"\n        ],\n        \"semantic_type\": \"\",\n        \"description\": \"\"\n      }\n    }\n  ]\n}",
              "type": "dataframe"
            },
            "text/html": [
              "\n",
              "  <div id=\"df-edc930fc-35a7-4371-beaf-e3b877cf3c07\" class=\"colab-df-container\">\n",
              "    <div>\n",
              "<style scoped>\n",
              "    .dataframe tbody tr th:only-of-type {\n",
              "        vertical-align: middle;\n",
              "    }\n",
              "\n",
              "    .dataframe tbody tr th {\n",
              "        vertical-align: top;\n",
              "    }\n",
              "\n",
              "    .dataframe thead th {\n",
              "        text-align: right;\n",
              "    }\n",
              "</style>\n",
              "<table border=\"1\" class=\"dataframe\">\n",
              "  <thead>\n",
              "    <tr style=\"text-align: right;\">\n",
              "      <th></th>\n",
              "      <th>image_path</th>\n",
              "      <th>class_label</th>\n",
              "    </tr>\n",
              "  </thead>\n",
              "  <tbody>\n",
              "    <tr>\n",
              "      <th>1542</th>\n",
              "      <td>/content/drive/MyDrive/Tuberculosis_final - Co...</td>\n",
              "      <td>Normal</td>\n",
              "    </tr>\n",
              "    <tr>\n",
              "      <th>3861</th>\n",
              "      <td>/content/drive/MyDrive/Tuberculosis_final - Co...</td>\n",
              "      <td>Normal</td>\n",
              "    </tr>\n",
              "    <tr>\n",
              "      <th>4949</th>\n",
              "      <td>/content/drive/MyDrive/Tuberculosis_final - Co...</td>\n",
              "      <td>Normal</td>\n",
              "    </tr>\n",
              "    <tr>\n",
              "      <th>5025</th>\n",
              "      <td>/content/drive/MyDrive/Tuberculosis_final - Co...</td>\n",
              "      <td>Normal</td>\n",
              "    </tr>\n",
              "    <tr>\n",
              "      <th>5201</th>\n",
              "      <td>/content/drive/MyDrive/Tuberculosis_final - Co...</td>\n",
              "      <td>Normal</td>\n",
              "    </tr>\n",
              "    <tr>\n",
              "      <th>1531</th>\n",
              "      <td>/content/drive/MyDrive/Tuberculosis_final - Co...</td>\n",
              "      <td>Tuberculosis</td>\n",
              "    </tr>\n",
              "    <tr>\n",
              "      <th>5081</th>\n",
              "      <td>/content/drive/MyDrive/Tuberculosis_final - Co...</td>\n",
              "      <td>Tuberculosis</td>\n",
              "    </tr>\n",
              "    <tr>\n",
              "      <th>2741</th>\n",
              "      <td>/content/drive/MyDrive/Tuberculosis_final - Co...</td>\n",
              "      <td>Tuberculosis</td>\n",
              "    </tr>\n",
              "    <tr>\n",
              "      <th>4418</th>\n",
              "      <td>/content/drive/MyDrive/Tuberculosis_final - Co...</td>\n",
              "      <td>Tuberculosis</td>\n",
              "    </tr>\n",
              "    <tr>\n",
              "      <th>2912</th>\n",
              "      <td>/content/drive/MyDrive/Tuberculosis_final - Co...</td>\n",
              "      <td>Tuberculosis</td>\n",
              "    </tr>\n",
              "  </tbody>\n",
              "</table>\n",
              "</div>\n",
              "    <div class=\"colab-df-buttons\">\n",
              "\n",
              "  <div class=\"colab-df-container\">\n",
              "    <button class=\"colab-df-convert\" onclick=\"convertToInteractive('df-edc930fc-35a7-4371-beaf-e3b877cf3c07')\"\n",
              "            title=\"Convert this dataframe to an interactive table.\"\n",
              "            style=\"display:none;\">\n",
              "\n",
              "  <svg xmlns=\"http://www.w3.org/2000/svg\" height=\"24px\" viewBox=\"0 -960 960 960\">\n",
              "    <path d=\"M120-120v-720h720v720H120Zm60-500h600v-160H180v160Zm220 220h160v-160H400v160Zm0 220h160v-160H400v160ZM180-400h160v-160H180v160Zm440 0h160v-160H620v160ZM180-180h160v-160H180v160Zm440 0h160v-160H620v160Z\"/>\n",
              "  </svg>\n",
              "    </button>\n",
              "\n",
              "  <style>\n",
              "    .colab-df-container {\n",
              "      display:flex;\n",
              "      gap: 12px;\n",
              "    }\n",
              "\n",
              "    .colab-df-convert {\n",
              "      background-color: #E8F0FE;\n",
              "      border: none;\n",
              "      border-radius: 50%;\n",
              "      cursor: pointer;\n",
              "      display: none;\n",
              "      fill: #1967D2;\n",
              "      height: 32px;\n",
              "      padding: 0 0 0 0;\n",
              "      width: 32px;\n",
              "    }\n",
              "\n",
              "    .colab-df-convert:hover {\n",
              "      background-color: #E2EBFA;\n",
              "      box-shadow: 0px 1px 2px rgba(60, 64, 67, 0.3), 0px 1px 3px 1px rgba(60, 64, 67, 0.15);\n",
              "      fill: #174EA6;\n",
              "    }\n",
              "\n",
              "    .colab-df-buttons div {\n",
              "      margin-bottom: 4px;\n",
              "    }\n",
              "\n",
              "    [theme=dark] .colab-df-convert {\n",
              "      background-color: #3B4455;\n",
              "      fill: #D2E3FC;\n",
              "    }\n",
              "\n",
              "    [theme=dark] .colab-df-convert:hover {\n",
              "      background-color: #434B5C;\n",
              "      box-shadow: 0px 1px 3px 1px rgba(0, 0, 0, 0.15);\n",
              "      filter: drop-shadow(0px 1px 2px rgba(0, 0, 0, 0.3));\n",
              "      fill: #FFFFFF;\n",
              "    }\n",
              "  </style>\n",
              "\n",
              "    <script>\n",
              "      const buttonEl =\n",
              "        document.querySelector('#df-edc930fc-35a7-4371-beaf-e3b877cf3c07 button.colab-df-convert');\n",
              "      buttonEl.style.display =\n",
              "        google.colab.kernel.accessAllowed ? 'block' : 'none';\n",
              "\n",
              "      async function convertToInteractive(key) {\n",
              "        const element = document.querySelector('#df-edc930fc-35a7-4371-beaf-e3b877cf3c07');\n",
              "        const dataTable =\n",
              "          await google.colab.kernel.invokeFunction('convertToInteractive',\n",
              "                                                    [key], {});\n",
              "        if (!dataTable) return;\n",
              "\n",
              "        const docLinkHtml = 'Like what you see? Visit the ' +\n",
              "          '<a target=\"_blank\" href=https://colab.research.google.com/notebooks/data_table.ipynb>data table notebook</a>'\n",
              "          + ' to learn more about interactive tables.';\n",
              "        element.innerHTML = '';\n",
              "        dataTable['output_type'] = 'display_data';\n",
              "        await google.colab.output.renderOutput(dataTable, element);\n",
              "        const docLink = document.createElement('div');\n",
              "        docLink.innerHTML = docLinkHtml;\n",
              "        element.appendChild(docLink);\n",
              "      }\n",
              "    </script>\n",
              "  </div>\n",
              "\n",
              "\n",
              "<div id=\"df-0f185290-ee5b-4112-ae92-53e28ad228f1\">\n",
              "  <button class=\"colab-df-quickchart\" onclick=\"quickchart('df-0f185290-ee5b-4112-ae92-53e28ad228f1')\"\n",
              "            title=\"Suggest charts\"\n",
              "            style=\"display:none;\">\n",
              "\n",
              "<svg xmlns=\"http://www.w3.org/2000/svg\" height=\"24px\"viewBox=\"0 0 24 24\"\n",
              "     width=\"24px\">\n",
              "    <g>\n",
              "        <path d=\"M19 3H5c-1.1 0-2 .9-2 2v14c0 1.1.9 2 2 2h14c1.1 0 2-.9 2-2V5c0-1.1-.9-2-2-2zM9 17H7v-7h2v7zm4 0h-2V7h2v10zm4 0h-2v-4h2v4z\"/>\n",
              "    </g>\n",
              "</svg>\n",
              "  </button>\n",
              "\n",
              "<style>\n",
              "  .colab-df-quickchart {\n",
              "      --bg-color: #E8F0FE;\n",
              "      --fill-color: #1967D2;\n",
              "      --hover-bg-color: #E2EBFA;\n",
              "      --hover-fill-color: #174EA6;\n",
              "      --disabled-fill-color: #AAA;\n",
              "      --disabled-bg-color: #DDD;\n",
              "  }\n",
              "\n",
              "  [theme=dark] .colab-df-quickchart {\n",
              "      --bg-color: #3B4455;\n",
              "      --fill-color: #D2E3FC;\n",
              "      --hover-bg-color: #434B5C;\n",
              "      --hover-fill-color: #FFFFFF;\n",
              "      --disabled-bg-color: #3B4455;\n",
              "      --disabled-fill-color: #666;\n",
              "  }\n",
              "\n",
              "  .colab-df-quickchart {\n",
              "    background-color: var(--bg-color);\n",
              "    border: none;\n",
              "    border-radius: 50%;\n",
              "    cursor: pointer;\n",
              "    display: none;\n",
              "    fill: var(--fill-color);\n",
              "    height: 32px;\n",
              "    padding: 0;\n",
              "    width: 32px;\n",
              "  }\n",
              "\n",
              "  .colab-df-quickchart:hover {\n",
              "    background-color: var(--hover-bg-color);\n",
              "    box-shadow: 0 1px 2px rgba(60, 64, 67, 0.3), 0 1px 3px 1px rgba(60, 64, 67, 0.15);\n",
              "    fill: var(--button-hover-fill-color);\n",
              "  }\n",
              "\n",
              "  .colab-df-quickchart-complete:disabled,\n",
              "  .colab-df-quickchart-complete:disabled:hover {\n",
              "    background-color: var(--disabled-bg-color);\n",
              "    fill: var(--disabled-fill-color);\n",
              "    box-shadow: none;\n",
              "  }\n",
              "\n",
              "  .colab-df-spinner {\n",
              "    border: 2px solid var(--fill-color);\n",
              "    border-color: transparent;\n",
              "    border-bottom-color: var(--fill-color);\n",
              "    animation:\n",
              "      spin 1s steps(1) infinite;\n",
              "  }\n",
              "\n",
              "  @keyframes spin {\n",
              "    0% {\n",
              "      border-color: transparent;\n",
              "      border-bottom-color: var(--fill-color);\n",
              "      border-left-color: var(--fill-color);\n",
              "    }\n",
              "    20% {\n",
              "      border-color: transparent;\n",
              "      border-left-color: var(--fill-color);\n",
              "      border-top-color: var(--fill-color);\n",
              "    }\n",
              "    30% {\n",
              "      border-color: transparent;\n",
              "      border-left-color: var(--fill-color);\n",
              "      border-top-color: var(--fill-color);\n",
              "      border-right-color: var(--fill-color);\n",
              "    }\n",
              "    40% {\n",
              "      border-color: transparent;\n",
              "      border-right-color: var(--fill-color);\n",
              "      border-top-color: var(--fill-color);\n",
              "    }\n",
              "    60% {\n",
              "      border-color: transparent;\n",
              "      border-right-color: var(--fill-color);\n",
              "    }\n",
              "    80% {\n",
              "      border-color: transparent;\n",
              "      border-right-color: var(--fill-color);\n",
              "      border-bottom-color: var(--fill-color);\n",
              "    }\n",
              "    90% {\n",
              "      border-color: transparent;\n",
              "      border-bottom-color: var(--fill-color);\n",
              "    }\n",
              "  }\n",
              "</style>\n",
              "\n",
              "  <script>\n",
              "    async function quickchart(key) {\n",
              "      const quickchartButtonEl =\n",
              "        document.querySelector('#' + key + ' button');\n",
              "      quickchartButtonEl.disabled = true;  // To prevent multiple clicks.\n",
              "      quickchartButtonEl.classList.add('colab-df-spinner');\n",
              "      try {\n",
              "        const charts = await google.colab.kernel.invokeFunction(\n",
              "            'suggestCharts', [key], {});\n",
              "      } catch (error) {\n",
              "        console.error('Error during call to suggestCharts:', error);\n",
              "      }\n",
              "      quickchartButtonEl.classList.remove('colab-df-spinner');\n",
              "      quickchartButtonEl.classList.add('colab-df-quickchart-complete');\n",
              "    }\n",
              "    (() => {\n",
              "      let quickchartButtonEl =\n",
              "        document.querySelector('#df-0f185290-ee5b-4112-ae92-53e28ad228f1 button');\n",
              "      quickchartButtonEl.style.display =\n",
              "        google.colab.kernel.accessAllowed ? 'block' : 'none';\n",
              "    })();\n",
              "  </script>\n",
              "</div>\n",
              "\n",
              "    </div>\n",
              "  </div>\n"
            ],
            "text/plain": [
              "                                             image_path   class_label\n",
              "1542  /content/drive/MyDrive/Tuberculosis_final - Co...        Normal\n",
              "3861  /content/drive/MyDrive/Tuberculosis_final - Co...        Normal\n",
              "4949  /content/drive/MyDrive/Tuberculosis_final - Co...        Normal\n",
              "5025  /content/drive/MyDrive/Tuberculosis_final - Co...        Normal\n",
              "5201  /content/drive/MyDrive/Tuberculosis_final - Co...        Normal\n",
              "1531  /content/drive/MyDrive/Tuberculosis_final - Co...  Tuberculosis\n",
              "5081  /content/drive/MyDrive/Tuberculosis_final - Co...  Tuberculosis\n",
              "2741  /content/drive/MyDrive/Tuberculosis_final - Co...  Tuberculosis\n",
              "4418  /content/drive/MyDrive/Tuberculosis_final - Co...  Tuberculosis\n",
              "2912  /content/drive/MyDrive/Tuberculosis_final - Co...  Tuberculosis"
            ]
          },
          "execution_count": 21,
          "metadata": {},
          "output_type": "execute_result"
        }
      ],
      "source": [
        "data[:10]"
      ]
    },
    {
      "cell_type": "code",
      "execution_count": null,
      "metadata": {
        "colab": {
          "base_uri": "https://localhost:8080/",
          "height": 728
        },
        "id": "tAvcub8Lz4jE",
        "outputId": "3e1a3e57-0138-49a7-89d4-c5aa2a74eadf"
      },
      "outputs": [
        {
          "name": "stderr",
          "output_type": "stream",
          "text": [
            "<ipython-input-22-2d1eefe42530>:3: FutureWarning: \n",
            "\n",
            "Passing `palette` without assigning `hue` is deprecated and will be removed in v0.14.0. Assign the `x` variable to `hue` and set `legend=False` for the same effect.\n",
            "\n",
            "  ax = sns.countplot(x=\"class_label\", data=df_unsampled, palette=sns.color_palette(\"cubehelix\", 4))\n",
            "<ipython-input-22-2d1eefe42530>:3: UserWarning: The palette list has more values (4) than needed (2), which may not be intended.\n",
            "  ax = sns.countplot(x=\"class_label\", data=df_unsampled, palette=sns.color_palette(\"cubehelix\", 4))\n"
          ]
        },
        {
          "data": {
            "text/plain": [
              "Text(0.5, 0, 'Class_label')"
            ]
          },
          "execution_count": 22,
          "metadata": {},
          "output_type": "execute_result"
        },
        {
          "data": {
            "image/png": "[encoded data removed]",
            "text/plain": [
              "<Figure size 1000x500 with 1 Axes>"
            ]
          },
          "metadata": {},
          "output_type": "display_data"
        }
      ],
      "source": [
        "sns.set(style=\"whitegrid\")\n",
        "plt.figure(figsize=(10, 5))\n",
        "ax = sns.countplot(x=\"class_label\", data=df_unsampled, palette=sns.color_palette(\"cubehelix\", 4))\n",
        "plt.xticks(rotation=90)\n",
        "plt.title(\"Class Label Counts\", {\"fontname\":\"fantasy\", \"fontweight\":\"bold\", \"fontsize\":\"medium\"})\n",
        "plt.ylabel(\"count\", {\"fontname\": \"serif\", \"fontweight\":\"bold\"})\n",
        "plt.xlabel(\"Class_label\", {\"fontname\": \"serif\", \"fontweight\":\"bold\"})"
      ]
    },
    {
      "cell_type": "code",
      "execution_count": null,
      "metadata": {
        "colab": {
          "base_uri": "https://localhost:8080/"
        },
        "id": "wTXLUyThlx2G",
        "outputId": "d343dfd6-150d-43f4-aaf3-049ab9567063"
      },
      "outputs": [
        {
          "name": "stderr",
          "output_type": "stream",
          "text": [
            "Resizing images: 100%|██████████| 5416/5416 [08:29<00:00, 10.62it/s]\n"
          ]
        },
        {
          "name": "stdout",
          "output_type": "stream",
          "text": [
            "(5416, 224, 224, 3)\n"
          ]
        }
      ],
      "source": [
        "import cv2\n",
        "import numpy as np\n",
        "from tqdm import tqdm  # Optional, for progress bar\n",
        "\n",
        "def resize_image(img_path):\n",
        "    file = cv2.imread(img_path)\n",
        "    resized = cv2.resize(file, (224, 224), interpolation=cv2.INTER_AREA)\n",
        "    return resized\n",
        "\n",
        "# Assuming data['image_path'] contains the paths of the original images\n",
        "images = [resize_image(img_path) for img_path in tqdm(data['image_path'], desc=\"Resizing images\")]\n",
        "\n",
        "# Convert the list of images to a single NumPy array\n",
        "images_array = np.stack(images, axis=0)\n",
        "\n",
        "# Now, images_array is a single NumPy array containing all the resized images\n",
        "print(images_array.shape)\n"
      ]
    },
    {
      "cell_type": "code",
      "execution_count": null,
      "metadata": {
        "colab": {
          "base_uri": "https://localhost:8080/"
        },
        "id": "_DpenegW0Ncc",
        "outputId": "c1bd2f74-c21c-477e-930a-7f911eba20eb"
      },
      "outputs": [
        {
          "data": {
            "text/plain": [
              "5416"
            ]
          },
          "execution_count": 24,
          "metadata": {},
          "output_type": "execute_result"
        }
      ],
      "source": [
        "len(images)"
      ]
    },
    {
      "cell_type": "code",
      "execution_count": null,
      "metadata": {
        "colab": {
          "base_uri": "https://localhost:8080/"
        },
        "id": "pdSLBjhX0Urk",
        "outputId": "8f17d504-4bb7-4a3f-9d61-a042b1dcd585"
      },
      "outputs": [
        {
          "data": {
            "text/plain": [
              "1542          Normal\n",
              "3861          Normal\n",
              "4949          Normal\n",
              "5025          Normal\n",
              "5201          Normal\n",
              "1531    Tuberculosis\n",
              "5081    Tuberculosis\n",
              "2741    Tuberculosis\n",
              "4418    Tuberculosis\n",
              "2912    Tuberculosis\n",
              "2410          Normal\n",
              "4228          Normal\n",
              "2307          Normal\n",
              "120     Tuberculosis\n",
              "3921          Normal\n",
              "Name: class_label, dtype: object"
            ]
          },
          "execution_count": 25,
          "metadata": {},
          "output_type": "execute_result"
        }
      ],
      "source": [
        "data['class_label'][:15]"
      ]
    },
    {
      "cell_type": "code",
      "execution_count": null,
      "metadata": {
        "id": "-ihaJKET0YXr"
      },
      "outputs": [],
      "source": [
        "class_names = list(data['class_label'])"
      ]
    },
    {
      "cell_type": "code",
      "execution_count": null,
      "metadata": {
        "colab": {
          "base_uri": "https://localhost:8080/"
        },
        "id": "ldeQkfbU0bZ8",
        "outputId": "9a754104-b453-4f7a-e5f0-d4498b60800d"
      },
      "outputs": [
        {
          "data": {
            "text/plain": [
              "(224, 224, 3)"
            ]
          },
          "execution_count": 27,
          "metadata": {},
          "output_type": "execute_result"
        }
      ],
      "source": [
        "images[0].shape"
      ]
    },
    {
      "cell_type": "code",
      "execution_count": null,
      "metadata": {
        "colab": {
          "base_uri": "https://localhost:8080/",
          "height": 474
        },
        "id": "oYCwcm9g0d10",
        "outputId": "0066433c-d5ea-4f90-ff26-0bdb6cb554f5"
      },
      "outputs": [
        {
          "data": {
            "text/plain": [
              "Text(0.5, 1.0, 'Tuberculosis')"
            ]
          },
          "execution_count": 28,
          "metadata": {},
          "output_type": "execute_result"
        },
        {
          "data": {
            "image/png": "[encoded data removed]",
            "text/plain": [
              "<Figure size 640x480 with 1 Axes>"
            ]
          },
          "metadata": {},
          "output_type": "display_data"
        }
      ],
      "source": [
        "plt.imshow(images[86])\n",
        "plt.title(class_names[86])"
      ]
    },
    {
      "cell_type": "code",
      "execution_count": null,
      "metadata": {
        "colab": {
          "base_uri": "https://localhost:8080/",
          "height": 474
        },
        "id": "61ZQm2UV0g0D",
        "outputId": "eb57d030-e8ea-452a-c4b4-919387e6a3cb"
      },
      "outputs": [
        {
          "data": {
            "text/plain": [
              "Text(0.5, 1.0, 'Tuberculosis')"
            ]
          },
          "execution_count": 29,
          "metadata": {},
          "output_type": "execute_result"
        },
        {
          "data": {
            "image/png": "[encoded data removed]",
            "text/plain": [
              "<Figure size 640x480 with 1 Axes>"
            ]
          },
          "metadata": {},
          "output_type": "display_data"
        }
      ],
      "source": [
        "plt.imshow(images[188])\n",
        "plt.title(class_names[188])"
      ]
    },
    {
      "cell_type": "code",
      "execution_count": null,
      "metadata": {
        "id": "CtkDhStL0kd8"
      },
      "outputs": [],
      "source": [
        "images = np.array(images)"
      ]
    },
    {
      "cell_type": "code",
      "execution_count": null,
      "metadata": {
        "colab": {
          "base_uri": "https://localhost:8080/"
        },
        "id": "IF7IDZ9u0oq8",
        "outputId": "ee0f35e4-fd7c-4924-852b-ccab9726cef6"
      },
      "outputs": [
        {
          "data": {
            "text/plain": [
              "(5416, 224, 224, 3)"
            ]
          },
          "execution_count": 31,
          "metadata": {},
          "output_type": "execute_result"
        }
      ],
      "source": [
        "images.shape"
      ]
    },
    {
      "cell_type": "code",
      "execution_count": null,
      "metadata": {
        "id": "gqQ7fVUu0rjT"
      },
      "outputs": [],
      "source": [
        "from sklearn.preprocessing import LabelBinarizer\n",
        "enc = LabelBinarizer()\n",
        "y = enc.fit_transform(data['class_label'])\n",
        "# y contain the binary representation of the class labels"
      ]
    },
    {
      "cell_type": "code",
      "execution_count": null,
      "metadata": {
        "colab": {
          "base_uri": "https://localhost:8080/"
        },
        "id": "1tWiJa5i3Xo3",
        "outputId": "3c71df27-79ad-44f0-88cb-d8b9b8e7ba1e"
      },
      "outputs": [
        {
          "data": {
            "text/plain": [
              "array(['Normal', 'Tuberculosis'], dtype='<U12')"
            ]
          },
          "execution_count": 33,
          "metadata": {},
          "output_type": "execute_result"
        }
      ],
      "source": [
        "enc.classes_"
      ]
    },
    {
      "cell_type": "code",
      "execution_count": null,
      "metadata": {
        "colab": {
          "base_uri": "https://localhost:8080/"
        },
        "id": "aA4i-AtF3asf",
        "outputId": "01e2b8b0-d2d8-4d29-82fd-5d1df3783da1"
      },
      "outputs": [
        {
          "data": {
            "text/plain": [
              "1542          Normal\n",
              "3861          Normal\n",
              "4949          Normal\n",
              "5025          Normal\n",
              "5201          Normal\n",
              "1531    Tuberculosis\n",
              "5081    Tuberculosis\n",
              "2741    Tuberculosis\n",
              "4418    Tuberculosis\n",
              "2912    Tuberculosis\n",
              "Name: class_label, dtype: object"
            ]
          },
          "execution_count": 34,
          "metadata": {},
          "output_type": "execute_result"
        }
      ],
      "source": [
        "data['class_label'][:10]"
      ]
    },
    {
      "cell_type": "code",
      "execution_count": null,
      "metadata": {
        "colab": {
          "base_uri": "https://localhost:8080/"
        },
        "id": "9c1OQW9j3fL_",
        "outputId": "05a3db46-a931-4db1-f5d3-ac914d3df494"
      },
      "outputs": [
        {
          "data": {
            "text/plain": [
              "array([[0],\n",
              "       [0],\n",
              "       [0],\n",
              "       [0],\n",
              "       [0],\n",
              "       [1],\n",
              "       [1],\n",
              "       [1],\n",
              "       [1],\n",
              "       [1]])"
            ]
          },
          "execution_count": 35,
          "metadata": {},
          "output_type": "execute_result"
        }
      ],
      "source": [
        "y[:10]"
      ]
    },
    {
      "cell_type": "code",
      "execution_count": null,
      "metadata": {
        "colab": {
          "base_uri": "https://localhost:8080/"
        },
        "id": "mLEcxCAH3iRu",
        "outputId": "1b34683c-255e-420a-e492-1e4126c39393"
      },
      "outputs": [
        {
          "data": {
            "text/plain": [
              "array([[0],\n",
              "       [0],\n",
              "       [0],\n",
              "       ...,\n",
              "       [0],\n",
              "       [1],\n",
              "       [1]])"
            ]
          },
          "execution_count": 36,
          "metadata": {},
          "output_type": "execute_result"
        }
      ],
      "source": [
        "y=np.array(y)\n",
        "y"
      ]
    },
    {
      "cell_type": "code",
      "execution_count": null,
      "metadata": {
        "id": "A-3zKWhd3lg_"
      },
      "outputs": [],
      "source": [
        "x_train, x_test, y_train, y_test = train_test_split(images, y, test_size=0.2, stratify=y, random_state=43)"
      ]
    },
    {
      "cell_type": "code",
      "execution_count": null,
      "metadata": {
        "colab": {
          "base_uri": "https://localhost:8080/"
        },
        "id": "tXU_tFOO3sIf",
        "outputId": "001035c0-ae48-43f7-e230-32345e60db18"
      },
      "outputs": [
        {
          "data": {
            "text/plain": [
              "array([[0],\n",
              "       [1],\n",
              "       [1],\n",
              "       [0],\n",
              "       [1]])"
            ]
          },
          "execution_count": 38,
          "metadata": {},
          "output_type": "execute_result"
        }
      ],
      "source": [
        "y_train[:5]"
      ]
    },
    {
      "cell_type": "code",
      "execution_count": null,
      "metadata": {
        "id": "7Hf_3Sio9uuc"
      },
      "outputs": [],
      "source": [
        "y = []\n",
        "for i in data['class_label']:\n",
        "    if i == 'Normal':\n",
        "        k = [1, 0]\n",
        "        y.append(k)\n",
        "    else:\n",
        "        k = [0, 1]\n",
        "        y.append(k)"
      ]
    },
    {
      "cell_type": "code",
      "execution_count": null,
      "metadata": {
        "colab": {
          "base_uri": "https://localhost:8080/"
        },
        "id": "TRkBx0R692e6",
        "outputId": "a11c3d37-9bbe-47ba-f9b7-be8749d9fe67"
      },
      "outputs": [
        {
          "data": {
            "text/plain": [
              "[[1, 0], [1, 0], [1, 0], [1, 0], [1, 0]]"
            ]
          },
          "execution_count": 40,
          "metadata": {},
          "output_type": "execute_result"
        }
      ],
      "source": [
        "y[:5]"
      ]
    },
    {
      "cell_type": "code",
      "execution_count": null,
      "metadata": {
        "colab": {
          "base_uri": "https://localhost:8080/"
        },
        "id": "k6acdoHh98cE",
        "outputId": "5c0a4610-947a-49e9-fd90-96d5491ea413"
      },
      "outputs": [
        {
          "data": {
            "text/plain": [
              "array([[1, 0],\n",
              "       [1, 0],\n",
              "       [1, 0],\n",
              "       ...,\n",
              "       [1, 0],\n",
              "       [0, 1],\n",
              "       [0, 1]])"
            ]
          },
          "execution_count": 41,
          "metadata": {},
          "output_type": "execute_result"
        }
      ],
      "source": [
        "y=np.array(y)\n",
        "y"
      ]
    },
    {
      "cell_type": "code",
      "execution_count": null,
      "metadata": {
        "id": "jb2twLAR-FYa"
      },
      "outputs": [],
      "source": [
        "\n",
        "x_train, x_test, y_train, y_test = train_test_split(images, y, test_size=0.2, stratify=y, random_state=43)"
      ]
    },
    {
      "cell_type": "code",
      "execution_count": null,
      "metadata": {
        "colab": {
          "base_uri": "https://localhost:8080/"
        },
        "id": "9hbUsXn23uom",
        "outputId": "6762f40a-20a5-4b95-b100-b389b16a7171"
      },
      "outputs": [
        {
          "data": {
            "text/plain": [
              "((4332, 224, 224, 3), (4332, 2), (1084, 224, 224, 3), (1084, 2))"
            ]
          },
          "execution_count": 43,
          "metadata": {},
          "output_type": "execute_result"
        }
      ],
      "source": [
        "x_train.shape, y_train.shape, x_test.shape, y_test.shape"
      ]
    },
    {
      "cell_type": "code",
      "execution_count": null,
      "metadata": {
        "colab": {
          "base_uri": "https://localhost:8080/"
        },
        "id": "PbhvYDZR3xpv",
        "outputId": "461ae32a-59c6-4fc6-a716-e23667275258"
      },
      "outputs": [
        {
          "data": {
            "text/plain": [
              "((4332, 224, 224, 3), (4332, 2), (1084, 224, 224, 3), (1084, 2))"
            ]
          },
          "execution_count": 44,
          "metadata": {},
          "output_type": "execute_result"
        }
      ],
      "source": [
        "x_train.shape, y_train.shape, x_test.shape, y_test.shape"
      ]
    },
    {
      "cell_type": "code",
      "execution_count": null,
      "metadata": {
        "id": "H5CJYrTs1DjV"
      },
      "outputs": [],
      "source": [
        "from sklearn.utils.class_weight import compute_class_weight\n",
        "\n",
        "# Flatten y_train to a 1D array\n",
        "y_train_flat = y_train.ravel()\n",
        "\n",
        "# Assuming binary classification, compute class weights\n",
        "class_weights = compute_class_weight('balanced', classes=np.unique(y_train_flat), y=y_train_flat)\n",
        "class_weight_dict = dict(enumerate(class_weights))"
      ]
    },
    {
      "cell_type": "markdown",
      "metadata": {
        "id": "nohPhzJOlkVH"
      },
      "source": [
        "# Inception v3"
      ]
    },
    {
      "cell_type": "code",
      "execution_count": null,
      "metadata": {
        "colab": {
          "base_uri": "https://localhost:8080/",
          "height": 1000
        },
        "id": "p0yto4Zrlj5O",
        "outputId": "4cd3dbd3-c636-4e1a-9f4d-66f305adbc0f"
      },
      "outputs": [
        {
          "name": "stdout",
          "output_type": "stream",
          "text": [
            "Downloading data from https://storage.googleapis.com/tensorflow/keras-applications/inception_v3/inception_v3_weights_tf_dim_ordering_tf_kernels_notop.h5\n",
            "87910968/87910968 [==============================] - 1s 0us/step\n",
            "Model: \"sequential\"\n",
            "_________________________________________________________________\n",
            " Layer (type)                Output Shape              Param #   \n",
            "=================================================================\n",
            " inception_v3 (Functional)   (None, 5, 5, 2048)        21802784  \n",
            "                                                                 \n",
            " dense (Dense)               (None, 5, 5, 128)         262272    \n",
            "                                                                 \n",
            " dropout (Dropout)           (None, 5, 5, 128)         0         \n",
            "                                                                 \n",
            " flatten (Flatten)           (None, 3200)              0         \n",
            "                                                                 \n",
            " dense_1 (Dense)             (None, 128)               409728    \n",
            "                                                                 \n",
            " dropout_1 (Dropout)         (None, 128)               0         \n",
            "                                                                 \n",
            " dense_2 (Dense)             (None, 2)                 258       \n",
            "                                                                 \n",
            "=================================================================\n",
            "Total params: 22475042 (85.74 MB)\n",
            "Trainable params: 672258 (2.56 MB)\n",
            "Non-trainable params: 21802784 (83.17 MB)\n",
            "_________________________________________________________________\n",
            "Epoch 1/10\n",
            "34/34 [==============================] - 617s 18s/step - loss: 9.8029 - accuracy: 0.8142 - val_loss: 1.1208 - val_accuracy: 0.6946\n",
            "Epoch 2/10\n",
            "34/34 [==============================] - 603s 18s/step - loss: 0.3370 - accuracy: 0.9007 - val_loss: 0.1614 - val_accuracy: 0.9382\n",
            "Epoch 3/10\n",
            "34/34 [==============================] - 607s 18s/step - loss: 0.5924 - accuracy: 0.8855 - val_loss: 0.1748 - val_accuracy: 0.9391\n",
            "Epoch 4/10\n",
            "34/34 [==============================] - 606s 18s/step - loss: 0.1996 - accuracy: 0.9377 - val_loss: 0.2105 - val_accuracy: 0.9363\n",
            "Epoch 5/10\n",
            "34/34 [==============================] - 604s 18s/step - loss: 0.3826 - accuracy: 0.9028 - val_loss: 0.1240 - val_accuracy: 0.9465\n",
            "Epoch 6/10\n",
            "34/34 [==============================] - 603s 18s/step - loss: 0.1809 - accuracy: 0.9370 - val_loss: 0.1580 - val_accuracy: 0.9437\n",
            "Epoch 7/10\n",
            "34/34 [==============================] - 603s 18s/step - loss: 0.1217 - accuracy: 0.9559 - val_loss: 0.1965 - val_accuracy: 0.9474\n",
            "Epoch 8/10\n",
            "34/34 [==============================] - 603s 18s/step - loss: 0.1758 - accuracy: 0.9476 - val_loss: 0.0984 - val_accuracy: 0.9640\n",
            "Epoch 9/10\n",
            "34/34 [==============================] - 574s 17s/step - loss: 0.1080 - accuracy: 0.9672 - val_loss: 0.0733 - val_accuracy: 0.9751\n",
            "Epoch 10/10\n",
            "34/34 [==============================] - 603s 18s/step - loss: 0.2721 - accuracy: 0.9437 - val_loss: 0.0863 - val_accuracy: 0.9640\n"
          ]
        },
        {
          "data": {
            "image/png": "[encoded data removed]",
            "text/plain": [
              "<Figure size 640x480 with 1 Axes>"
            ]
          },
          "metadata": {},
          "output_type": "display_data"
        },
        {
          "name": "stdout",
          "output_type": "stream",
          "text": [
            "Test accuracy: 0.964022159576416\n"
          ]
        }
      ],
      "source": [
        "from keras.applications.inception_v3 import InceptionV3\n",
        "from keras.models import Sequential\n",
        "from keras.layers import Dense, Dropout, Flatten\n",
        "\n",
        "# Import the InceptionV3 model\n",
        "inception = InceptionV3(weights='imagenet', include_top=False, input_shape=(224, 224, 3))\n",
        "inception.trainable = False\n",
        "\n",
        "# Set the InceptionV3 model\n",
        "model_3 = Sequential()\n",
        "model_3.add(inception)\n",
        "model_3.add(Dense(128, activation='relu'))\n",
        "# ReLU is defined as f(x)=max(0,x), where x is the input to the function.\n",
        "model_3.add(Dropout(0.2))\n",
        "# 20% of the neurons in the previous layer will be randomly set to zero during each training batch\n",
        "model_3.add(Flatten())\n",
        "model_3.add(Dense(128, activation='relu'))\n",
        "model_3.add(Dropout(0.2))\n",
        "model_3.add(Dense(2, activation='softmax'))\n",
        "# Softmax activation is used in the output layer for binary classification\n",
        "model_3.summary()\n",
        "\n",
        "# Compile the model\n",
        "model_3.compile(optimizer='rmsprop', loss=\"binary_crossentropy\", metrics=[\"accuracy\"])\n",
        "History_2 = model_3.fit(x_train, y_train, epochs=10, validation_data=(x_test, y_test), batch_size=128, class_weight=class_weight_dict)\n",
        "\n",
        "# Plot the accuracy plot\n",
        "plt.plot(History_2.history['accuracy'], 'r')\n",
        "plt.plot(History_2.history['val_accuracy'], 'b')\n",
        "plt.legend({'Train Accuracy': 'r', 'Test Accuracy': 'b'})\n",
        "plt.show()\n",
        "\n",
        "# Evaluate and print test accuracy\n",
        "score_2 = model_3.evaluate(x_test, y_test, verbose=0)\n",
        "print('Test accuracy:', score_2[1])\n"
      ]
    },
    {
      "cell_type": "code",
      "execution_count": null,
      "metadata": {
        "colab": {
          "base_uri": "https://localhost:8080/",
          "height": 497
        },
        "id": "9414vUZOnXN4",
        "outputId": "9aa882d8-3b1c-4010-89c6-59c69ec38557"
      },
      "outputs": [
        {
          "name": "stdout",
          "output_type": "stream",
          "text": [
            "34/34 [==============================] - 112s 3s/step\n"
          ]
        },
        {
          "data": {
            "image/png": "[encoded data removed]",
            "text/plain": [
              "<Figure size 640x480 with 2 Axes>"
            ]
          },
          "metadata": {},
          "output_type": "display_data"
        }
      ],
      "source": [
        "import matplotlib.pyplot as plt\n",
        "from sklearn.metrics import confusion_matrix, ConfusionMatrixDisplay\n",
        "\n",
        "\n",
        "# Plot the confusion matrix\n",
        "\n",
        "y_pred = model_3.predict(x_test)\n",
        "y_pred_classes = np.argmax(y_pred, axis=1)\n",
        "y_true = np.argmax(y_test, axis=1)\n",
        "cm = confusion_matrix(y_true, y_pred_classes)\n",
        "disp = ConfusionMatrixDisplay(confusion_matrix=cm, display_labels=['Class 0', 'Class 1'])\n",
        "disp.plot(cmap='Blues', values_format='.0f')\n",
        "plt.title('Confusion Matrix')\n",
        "\n",
        "plt.show()\n",
        "\n",
        "\n"
      ]
    },
    {
      "cell_type": "code",
      "execution_count": null,
      "metadata": {
        "colab": {
          "base_uri": "https://localhost:8080/",
          "height": 498
        },
        "id": "DoVQxga6oN_1",
        "outputId": "fe908696-7227-4afc-dc0c-48047f47c788"
      },
      "outputs": [
        {
          "name": "stdout",
          "output_type": "stream",
          "text": [
            "34/34 [==============================] - 111s 3s/step\n"
          ]
        },
        {
          "data": {
            "image/png": "[encoded data removed]",
            "text/plain": [
              "<Figure size 640x480 with 1 Axes>"
            ]
          },
          "metadata": {},
          "output_type": "display_data"
        }
      ],
      "source": [
        "import numpy as np\n",
        "from sklearn.metrics import roc_curve, auc\n",
        "\n",
        "#\n",
        "\n",
        "# Plot ROC curve\n",
        "y_pred_prob = model_3.predict(x_test)[:, 1]\n",
        "fpr, tpr, _ = roc_curve(y_true, y_pred_prob)\n",
        "roc_auc = auc(fpr, tpr)\n",
        "\n",
        "plt.subplot(1, 3, 3)\n",
        "plt.plot(fpr, tpr, color='darkorange', lw=2, label=f'ROC curve (area = {roc_auc:.2f})')\n",
        "plt.plot([0, 1], [0, 1], color='navy', lw=2, linestyle='--')\n",
        "plt.xlabel('False Positive Rate')\n",
        "plt.ylabel('True Positive Rate')\n",
        "plt.title('Receiver Operating Characteristic (ROC)')\n",
        "plt.legend()\n",
        "\n",
        "plt.tight_layout()\n",
        "plt.show()\n",
        "\n",
        "\n"
      ]
    },
    {
      "cell_type": "code",
      "execution_count": null,
      "metadata": {
        "colab": {
          "base_uri": "https://localhost:8080/"
        },
        "id": "0umD0aQF8_CA",
        "outputId": "ef6ecb4e-3456-439c-9f33-57d742e3cdc4"
      },
      "outputs": [
        {
          "name": "stderr",
          "output_type": "stream",
          "text": [
            "/usr/local/lib/python3.10/dist-packages/keras/src/engine/training.py:3103: UserWarning: You are saving your model as an HDF5 file via `model.save()`. This file format is considered legacy. We recommend using instead the native Keras format, e.g. `model.save('my_model.keras')`.\n",
            "  saving_api.save_model(\n"
          ]
        }
      ],
      "source": [
        "from tensorflow.keras.models import load_model\n",
        "model_3.save('/content/drive/MyDrive/saved_models/m1_new.h5')"
      ]
    },
    {
      "cell_type": "markdown",
      "metadata": {
        "id": "zFsibJdEACAi"
      },
      "source": [
        "# Prediction for Inception v3\n"
      ]
    },
    {
      "cell_type": "code",
      "execution_count": null,
      "metadata": {
        "colab": {
          "base_uri": "https://localhost:8080/"
        },
        "id": "jtN1hArrARO9",
        "outputId": "5ee82f69-9741-450b-b9f1-09a7dd2d9507"
      },
      "outputs": [
        {
          "name": "stdout",
          "output_type": "stream",
          "text": [
            "34/34 [==============================] - 113s 3s/step\n",
            "Accuracy: 0.9640221402214022\n",
            "Classification Report:\n",
            "               precision    recall  f1-score   support\n",
            "\n",
            "           0       0.99      0.96      0.97       701\n",
            "           1       0.93      0.98      0.95       383\n",
            "\n",
            "    accuracy                           0.96      1084\n",
            "   macro avg       0.96      0.97      0.96      1084\n",
            "weighted avg       0.97      0.96      0.96      1084\n",
            "\n"
          ]
        }
      ],
      "source": [
        "from keras.models import load_model\n",
        "from sklearn.metrics import accuracy_score, classification_report, confusion_matrix\n",
        "\n",
        "# Load the saved model\n",
        "loaded_model = load_model('/content/drive/MyDrive/saved_models/m1_new.h5')\n",
        "\n",
        "# Predict on x_test\n",
        "y_pred = loaded_model.predict(x_test)\n",
        "\n",
        "# Convert predictions to binary values (0 or 1)\n",
        "y_pred_classes = (y_pred > 0.5).astype(int)\n",
        "\n",
        "# Calculate accuracy\n",
        "accuracy = accuracy_score(y_test.argmax(axis=1), y_pred_classes.argmax(axis=1))\n",
        "print('Accuracy:', accuracy)\n",
        "\n",
        "# Calculate other metrics\n",
        "report = classification_report(y_test.argmax(axis=1), y_pred_classes.argmax(axis=1))\n",
        "print('Classification Report:\\n', report)\n",
        "\n"
      ]
    },
    {
      "cell_type": "markdown",
      "metadata": {
        "id": "rCBzrCxCpGhJ"
      },
      "source": [
        "# Xception"
      ]
    },
    {
      "cell_type": "code",
      "execution_count": null,
      "metadata": {
        "colab": {
          "base_uri": "https://localhost:8080/",
          "height": 1000
        },
        "id": "kO9ibt7cpGOs",
        "outputId": "791694fe-f6d9-43c1-daa0-9a4d0c7fd1e8"
      },
      "outputs": [
        {
          "name": "stdout",
          "output_type": "stream",
          "text": [
            "Downloading data from https://storage.googleapis.com/tensorflow/keras-applications/xception/xception_weights_tf_dim_ordering_tf_kernels_notop.h5\n",
            "83683744/83683744 [==============================] - 1s 0us/step\n",
            "Model: \"sequential\"\n",
            "_________________________________________________________________\n",
            " Layer (type)                Output Shape              Param #   \n",
            "=================================================================\n",
            " xception (Functional)       (None, 7, 7, 2048)        20861480  \n",
            "                                                                 \n",
            " max_pooling2d (MaxPooling2  (None, 3, 3, 2048)        0         \n",
            " D)                                                              \n",
            "                                                                 \n",
            " global_average_pooling2d (  (None, 2048)              0         \n",
            " GlobalAveragePooling2D)                                         \n",
            "                                                                 \n",
            " dense (Dense)               (None, 256)               524544    \n",
            "                                                                 \n",
            " batch_normalization_4 (Bat  (None, 256)               1024      \n",
            " chNormalization)                                                \n",
            "                                                                 \n",
            " dropout (Dropout)           (None, 256)               0         \n",
            "                                                                 \n",
            " dense_1 (Dense)             (None, 128)               32896     \n",
            "                                                                 \n",
            " batch_normalization_5 (Bat  (None, 128)               512       \n",
            " chNormalization)                                                \n",
            "                                                                 \n",
            " dropout_1 (Dropout)         (None, 128)               0         \n",
            "                                                                 \n",
            " dense_2 (Dense)             (None, 64)                8256      \n",
            "                                                                 \n",
            " batch_normalization_6 (Bat  (None, 64)                256       \n",
            " chNormalization)                                                \n",
            "                                                                 \n",
            " dropout_2 (Dropout)         (None, 64)                0         \n",
            "                                                                 \n",
            " dense_3 (Dense)             (None, 2)                 130       \n",
            "                                                                 \n",
            "=================================================================\n",
            "Total params: 21429098 (81.75 MB)\n",
            "Trainable params: 566722 (2.16 MB)\n",
            "Non-trainable params: 20862376 (79.58 MB)\n",
            "_________________________________________________________________\n"
          ]
        },
        {
          "name": "stderr",
          "output_type": "stream",
          "text": [
            "WARNING:absl:`lr` is deprecated in Keras optimizer, please use `learning_rate` or use the legacy optimizer, e.g.,tf.keras.optimizers.legacy.RMSprop.\n"
          ]
        },
        {
          "name": "stdout",
          "output_type": "stream",
          "text": [
            "Epoch 1/10\n",
            "34/34 [==============================] - 1195s 35s/step - loss: 0.4511 - accuracy: 0.8292 - val_loss: 0.3101 - val_accuracy: 0.9013\n",
            "Epoch 2/10\n",
            "34/34 [==============================] - 1176s 35s/step - loss: 0.2483 - accuracy: 0.9148 - val_loss: 0.2068 - val_accuracy: 0.9354\n",
            "Epoch 3/10\n",
            "34/34 [==============================] - 1165s 34s/step - loss: 0.1940 - accuracy: 0.9342 - val_loss: 0.1349 - val_accuracy: 0.9520\n",
            "Epoch 4/10\n",
            "34/34 [==============================] - 1216s 36s/step - loss: 0.1634 - accuracy: 0.9432 - val_loss: 0.3668 - val_accuracy: 0.8423\n",
            "Epoch 5/10\n",
            "34/34 [==============================] - 1163s 34s/step - loss: 0.1579 - accuracy: 0.9462 - val_loss: 0.2354 - val_accuracy: 0.8994\n",
            "Epoch 6/10\n",
            "34/34 [==============================] - 1142s 34s/step - loss: 0.1384 - accuracy: 0.9531 - val_loss: 0.1842 - val_accuracy: 0.9170\n",
            "Epoch 7/10\n",
            "34/34 [==============================] - 1179s 35s/step - loss: 0.1403 - accuracy: 0.9529 - val_loss: 0.9074 - val_accuracy: 0.6716\n",
            "Epoch 8/10\n",
            "34/34 [==============================] - 1169s 35s/step - loss: 0.1170 - accuracy: 0.9601 - val_loss: 1.1354 - val_accuracy: 0.5923\n",
            "Epoch 9/10\n",
            "34/34 [==============================] - 1126s 33s/step - loss: 0.1298 - accuracy: 0.9564 - val_loss: 0.1496 - val_accuracy: 0.9410\n",
            "Epoch 10/10\n",
            "34/34 [==============================] - 1193s 35s/step - loss: 0.1178 - accuracy: 0.9587 - val_loss: 0.1038 - val_accuracy: 0.9696\n"
          ]
        },
        {
          "data": {
            "image/png": "[encoded data removed]",
            "text/plain": [
              "<Figure size 640x480 with 1 Axes>"
            ]
          },
          "metadata": {},
          "output_type": "display_data"
        },
        {
          "name": "stdout",
          "output_type": "stream",
          "text": [
            "Test accuracy: 0.9695571660995483\n",
            "34/34 [==============================] - 214s 6s/step\n"
          ]
        },
        {
          "data": {
            "image/png": "[encoded data removed]",
            "text/plain": [
              "<Figure size 640x480 with 2 Axes>"
            ]
          },
          "metadata": {},
          "output_type": "display_data"
        }
      ],
      "source": [
        "from keras.applications.xception import Xception\n",
        "from keras.models import Sequential\n",
        "from keras.layers import Dense, Dropout, Flatten, GlobalAveragePooling2D, MaxPooling2D, BatchNormalization\n",
        "from keras.optimizers import RMSprop\n",
        "from sklearn.metrics import confusion_matrix, ConfusionMatrixDisplay\n",
        "import matplotlib.pyplot as plt\n",
        "\n",
        "# Import the Xception model\n",
        "xception = Xception(weights='imagenet', include_top=False, input_shape=(224, 224, 3))\n",
        "xception.trainable = False\n",
        "\n",
        "# Set the Xception model\n",
        "model_xception = Sequential()\n",
        "model_xception.add(xception)\n",
        "model_xception.add(MaxPooling2D(pool_size=(2, 2)))  # Adding MaxPooling layer\n",
        "model_xception.add(GlobalAveragePooling2D())  # Adding Global Average Pooling layer\n",
        "model_xception.add(Dense(256, activation='relu'))\n",
        "model_xception.add(BatchNormalization())  # Adding Batch Normalization\n",
        "model_xception.add(Dropout(0.5))\n",
        "model_xception.add(Dense(128, activation='relu'))\n",
        "model_xception.add(BatchNormalization())\n",
        "model_xception.add(Dropout(0.5))\n",
        "model_xception.add(Dense(64, activation='relu'))\n",
        "model_xception.add(BatchNormalization())\n",
        "model_xception.add(Dropout(0.5))\n",
        "model_xception.add(Dense(2, activation='softmax'))\n",
        "model_xception.summary()\n",
        "\n",
        "# Compile the model\n",
        "model_xception.compile(optimizer=RMSprop(lr=0.0001), loss=\"binary_crossentropy\", metrics=[\"accuracy\"])\n",
        "\n",
        "# Train the model\n",
        "History_xception = model_xception.fit(x_train, y_train, epochs=10, validation_data=(x_test, y_test), batch_size=128)\n",
        "\n",
        "# Plot the accuracy plot\n",
        "plt.plot(History_xception.history['accuracy'], 'r', label='Train Accuracy')\n",
        "plt.plot(History_xception.history['val_accuracy'], 'b', label='Validation Accuracy')\n",
        "plt.title('Training and Validation Accuracy - Xception')\n",
        "plt.xlabel('Epochs')\n",
        "plt.ylabel('Accuracy')\n",
        "plt.legend()\n",
        "plt.show()\n",
        "\n",
        "# Evaluate and print test accuracy\n",
        "score_xception = model_xception.evaluate(x_test, y_test, verbose=0)\n",
        "print('Test accuracy:', score_xception[1])\n",
        "\n",
        "# Plot the confusion matrix\n",
        "y_pred_xception = model_xception.predict(x_test)\n",
        "y_pred_classes_xception = np.argmax(y_pred_xception, axis=1)\n",
        "y_true_xception = np.argmax(y_test, axis=1)\n",
        "cm_xception = confusion_matrix(y_true_xception, y_pred_classes_xception)\n",
        "disp_xception = ConfusionMatrixDisplay(confusion_matrix=cm_xception, display_labels=['Class 0', 'Class 1'])\n",
        "disp_xception.plot(cmap='Blues', values_format='.0f')\n",
        "plt.title('Confusion Matrix - Xception')\n",
        "plt.show()\n"
      ]
    },
    {
      "cell_type": "code",
      "execution_count": null,
      "metadata": {
        "colab": {
          "base_uri": "https://localhost:8080/"
        },
        "id": "lgchw59NvWEW",
        "outputId": "a4bc8567-25d9-43dc-a53c-76e55f2ed58a"
      },
      "outputs": [
        {
          "name": "stderr",
          "output_type": "stream",
          "text": [
            "/usr/local/lib/python3.10/dist-packages/keras/src/engine/training.py:3103: UserWarning: You are saving your model as an HDF5 file via `model.save()`. This file format is considered legacy. We recommend using instead the native Keras format, e.g. `model.save('my_model.keras')`.\n",
            "  saving_api.save_model(\n"
          ]
        }
      ],
      "source": [
        "from tensorflow.keras.models import load_model\n",
        "model_xception.save('/content/drive/MyDrive/saved_models/m2_new(1).h5')"
      ]
    },
    {
      "cell_type": "markdown",
      "metadata": {
        "id": "pacDn-9Y2v-E"
      },
      "source": [
        "# Prediction for Xception Model\n"
      ]
    },
    {
      "cell_type": "code",
      "execution_count": null,
      "metadata": {
        "colab": {
          "base_uri": "https://localhost:8080/"
        },
        "id": "pGsVHK6m-LdO",
        "outputId": "e6f8c5ed-b579-47fc-ba6a-a607789eaab6"
      },
      "outputs": [
        {
          "name": "stdout",
          "output_type": "stream",
          "text": [
            "34/34 [==============================] - 217s 6s/step\n",
            "Accuracy: 0.9695571955719557\n",
            "Classification Report:\n",
            "               precision    recall  f1-score   support\n",
            "\n",
            "           0       0.97      0.99      0.98       701\n",
            "           1       0.98      0.94      0.96       383\n",
            "\n",
            "    accuracy                           0.97      1084\n",
            "   macro avg       0.97      0.96      0.97      1084\n",
            "weighted avg       0.97      0.97      0.97      1084\n",
            "\n"
          ]
        }
      ],
      "source": [
        "from keras.models import load_model\n",
        "from sklearn.metrics import accuracy_score, classification_report, confusion_matrix\n",
        "\n",
        "# Load the saved model\n",
        "loaded_model = load_model('/content/drive/MyDrive/saved_models/m2_new(1).h5')\n",
        "\n",
        "# Predict on x_test\n",
        "y_pred = loaded_model.predict(x_test)\n",
        "\n",
        "# Convert predictions to binary values (0 or 1)\n",
        "y_pred_classes = (y_pred > 0.5).astype(int)\n",
        "\n",
        "# Calculate accuracy\n",
        "accuracy = accuracy_score(y_test.argmax(axis=1), y_pred_classes.argmax(axis=1))\n",
        "print('Accuracy:', accuracy)\n",
        "\n",
        "# Calculate other metrics\n",
        "report = classification_report(y_test.argmax(axis=1), y_pred_classes.argmax(axis=1))\n",
        "print('Classification Report:\\n', report)\n",
        "\n"
      ]
    },
    {
      "cell_type": "markdown",
      "metadata": {
        "id": "vEgt8vT4A8Me"
      },
      "source": [
        "#Prediction for Inceptionv3\n"
      ]
    },
    {
      "cell_type": "code",
      "execution_count": null,
      "metadata": {
        "colab": {
          "base_uri": "https://localhost:8080/"
        },
        "id": "1xr-cpaDA7mi",
        "outputId": "39c55681-804e-41b6-f7ac-7552a20fae52"
      },
      "outputs": [
        {
          "name": "stdout",
          "output_type": "stream",
          "text": [
            "34/34 [==============================] - 3s 29ms/step\n",
            "Accuracy: 0.9234317343173432\n",
            "Classification Report:\n",
            "               precision    recall  f1-score   support\n",
            "\n",
            "           0       0.94      0.94      0.94       701\n",
            "           1       0.89      0.90      0.89       383\n",
            "\n",
            "    accuracy                           0.92      1084\n",
            "   macro avg       0.92      0.92      0.92      1084\n",
            "weighted avg       0.92      0.92      0.92      1084\n",
            "\n"
          ]
        }
      ],
      "source": [
        "from keras.models import load_model\n",
        "from sklearn.metrics import accuracy_score, classification_report, confusion_matrix\n",
        "\n",
        "# Load the saved model\n",
        "loaded_model = load_model('/content/drive/MyDrive/saved_models/m5_new(1).h5')\n",
        "\n",
        "# Predict on x_test\n",
        "y_pred = loaded_model.predict(x_test)\n",
        "\n",
        "# Convert predictions to binary values (0 or 1)\n",
        "y_pred_classes = (y_pred > 0.5).astype(int)\n",
        "\n",
        "# Calculate accuracy\n",
        "accuracy = accuracy_score(y_test.argmax(axis=1), y_pred_classes.argmax(axis=1))\n",
        "print('Accuracy:', accuracy)\n",
        "\n",
        "# Calculate other metrics\n",
        "report = classification_report(y_test.argmax(axis=1), y_pred_classes.argmax(axis=1))\n",
        "print('Classification Report:\\n', report)\n",
        "\n"
      ]
    },
    {
      "cell_type": "markdown",
      "metadata": {
        "id": "XwSExtB8Xmrv"
      },
      "source": [
        "#prediction\n",
        "\n"
      ]
    },
    {
      "cell_type": "code",
      "execution_count": null,
      "metadata": {
        "colab": {
          "base_uri": "https://localhost:8080/"
        },
        "id": "jZQ_9Nlyp3bA",
        "outputId": "573262ac-a0ce-420c-bd43-fc9540d46ba6"
      },
      "outputs": [
        {
          "name": "stdout",
          "output_type": "stream",
          "text": [
            "1/1 [==============================] - 0s 206ms/step\n",
            "The input image indicate Normal.\n"
          ]
        }
      ],
      "source": [
        "import os\n",
        "import cv2\n",
        "import numpy as np\n",
        "from tensorflow.keras.models import load_model\n",
        "from tensorflow.keras.preprocessing import image\n",
        "\n",
        "# Load the pre-trained model\n",
        "model_path = '/content/drive/MyDrive/saved_models/m5_new(1).h5'\n",
        "model = load_model(model_path)\n",
        "\n",
        "# Function to preprocess the input image\n",
        "def preprocess_input_image(img_path):\n",
        "    img = image.load_img(img_path, target_size=(224, 224))  # Assuming your model expects 224x224 images\n",
        "    img_array = image.img_to_array(img)\n",
        "    img_array = np.expand_dims(img_array, axis=0)\n",
        "    img_array = img_array / 255.0  # Normalize pixel values to the range [0, 1]\n",
        "    return img_array\n",
        "\n",
        "# Function to make predictions using the pre-trained model\n",
        "def predict_tuberculosis(model, img_path):\n",
        "    input_image = preprocess_input_image(img_path)\n",
        "    prediction = model.predict(input_image)\n",
        "    return prediction\n",
        "\n",
        "# Specify the path to the input image\n",
        "input_image_path = '/content/drive/MyDrive/Tuberculosis_extracted/TB_Chest_Radiography_Database/Normal/Normal-2160.png'\n",
        "\n",
        "# Make prediction\n",
        "prediction = predict_tuberculosis(model, input_image_path)\n",
        "\n",
        "# Output the prediction\n",
        "if prediction[0][0] > 0.5:  # Assuming the model output is a probability (adjust threshold as needed)\n",
        "    print(\"The input image indicates tuberculosis.\")\n",
        "else:\n",
        "    print(\"The input image indicate Normal.\")\n"
      ]
    },
    {
      "cell_type": "code",
      "execution_count": null,
      "metadata": {
        "colab": {
          "base_uri": "https://localhost:8080/"
        },
        "id": "AX3HHQ78K9T1",
        "outputId": "dd3cb5c5-59a2-4f08-c5d6-1038e84f1d22"
      },
      "outputs": [
        {
          "name": "stdout",
          "output_type": "stream",
          "text": [
            "1/1 [==============================] - 0s 234ms/step\n",
            "The input image indicates tuberculosis.\n"
          ]
        }
      ],
      "source": [
        "import os\n",
        "import cv2\n",
        "import numpy as np\n",
        "from tensorflow.keras.models import load_model\n",
        "from tensorflow.keras.preprocessing import image\n",
        "\n",
        "# Load the pre-trained model\n",
        "model_path = '/content/drive/MyDrive/saved_models/m5_new(1).h5'\n",
        "model = load_model(model_path)\n",
        "\n",
        "# Function to preprocess the input image\n",
        "def preprocess_input_image(img_path):\n",
        "    img = image.load_img(img_path, target_size=(224, 224))  # Assuming your model expects 224x224 images\n",
        "    img_array = image.img_to_array(img)\n",
        "    img_array = np.expand_dims(img_array, axis=0)\n",
        "    img_array = img_array / 255.0  # Normalize pixel values to the range [0, 1]\n",
        "    return img_array\n",
        "\n",
        "# Function to make predictions using the pre-trained model\n",
        "def predict_tuberculosis(model, img_path):\n",
        "    input_image = preprocess_input_image(img_path)\n",
        "    prediction = model.predict(input_image)\n",
        "    return prediction\n",
        "\n",
        "# Specify the path to the input image\n",
        "input_image_path = '/content/drive/MyDrive/Tuberculosis_extracted/TB_Chest_Radiography_Database/Tuberculosis/Tuberculosis-436.png'\n",
        "\n",
        "# Make prediction\n",
        "prediction = predict_tuberculosis(model, input_image_path)\n",
        "\n",
        "# Output the prediction\n",
        "if prediction[0][0] < 0.5:  # Assuming the model output is a probability (adjust threshold as needed)\n",
        "    print(\"The input image indicates tuberculosis.\")\n",
        "else:\n",
        "    print(\"The input image indicate Normal.\")\n"
      ]
    },
    {
      "cell_type": "code",
      "execution_count": null,
      "metadata": {
        "id": "RL3mShElZFGu"
      },
      "outputs": [],
      "source": []
    }
  ],
  "metadata": {
    "accelerator": "GPU",
    "colab": {
      "gpuType": "T4",
      "provenance": []
    },
    "kernelspec": {
      "display_name": "Python 3",
      "name": "python3"
    },
    "language_info": {
      "name": "python"
    }
  },
  "nbformat": 4,
  "nbformat_minor": 0
}
