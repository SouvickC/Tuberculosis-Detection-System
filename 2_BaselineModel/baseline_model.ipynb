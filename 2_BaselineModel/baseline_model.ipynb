{
 "cells": [
  {
   "cell_type": "markdown",
   "metadata": {},
   "source": [
    "# Baseline Model\n",
    "\n",
    "## Table of Contents\n",
    "1. [Model Choice](#model-choice)\n",
    "2. [Feature Selection](#feature-selection)\n",
    "3. [Implementation](#implementation)\n",
    "4. [Evaluation](#evaluation)\n"
   ]
  },
  {
   "cell_type": "code",
   "execution_count": null,
   "metadata": {},
   "outputs": [],
  "source": [
    "import os\n",
    "import tqdm\n",
    "import matplotlib.pyplot as plt\n",
    "import pandas as pd\n",
    "import numpy as np\n",
    "import cv2\n",
    "from glob import glob\n",
    "import seaborn as sns\n",
    "import random\n",
    "from keras.preprocessing import image\n",
    "import tensorflow as tf\n",
    "\n",
    "from keras.models import Sequential\n",
    "from keras.layers import Dense,Dropout,Flatten,Conv2D,MaxPool2D,GlobalAvgPool2D,GlobalMaxPooling2D\n",
    "from keras.optimizers import RMSprop\n",
    "from keras.preprocessing.image import ImageDataGenerator\n",
    "\n",
    "from keras.optimizers import Adam\n",
    "from sklearn.model_selection import train_test_split\n"
  ]
}
,
  {
   "cell_type": "markdown",
   "metadata": {},
"source": [
  "## Model Choice\n",
  "\n",
  "For the baseline model, we use a simple Convolutional Neural Network (CNN) with one convolutional block and a dense output layer.\n",
  "\n",
  "This model was chosen because:\n",
  "- CNNs are well-suited for image classification tasks like detecting Tuberculosis from chest X-rays.\n",
  "- A small architecture allows fast training and testing.\n",
  "- It provides a solid benchmark against which more complex architectures (like transfer learning with Inception or ResNet) can be compared.\n"
]
  },
  {
   "cell_type": "markdown",
   "metadata": {},
   "source": [
    "## Feature Selection\n",
    "\n",
    "[Indicate which features from the dataset you will be using for the baseline model, and justify your selection.]\n"
   ]
  },
  {
   "cell_type": "code",
   "execution_count": null,
   "metadata": {},
   "outputs": [],
"source": [
  "# Set dataset directories\n",
  "train_dir = '/content/drive/MyDrive/Tuberculosis_final - Copy/TB_Chest_Radiography_Database/train'\n",
  "val_dir = '/content/drive/MyDrive/Tuberculosis_final - Copy/TB_Chest_Radiography_Database/validation'\n",
  "\n",
  "# Create ImageDataGenerators for normalization\n",
  "train_datagen = ImageDataGenerator(rescale=1./255)\n",
  "val_datagen = ImageDataGenerator(rescale=1./255)\n",
  "\n",
  "# Load images from directories\n",
  "train_data = train_datagen.flow_from_directory(\n",
  "    train_dir,\n",
  "    target_size=(224, 224),\n",
  "    batch_size=32,\n",
  "    class_mode='binary'\n",
  ")\n",
  "\n",
  "val_data = val_datagen.flow_from_directory(\n",
  "    val_dir,\n",
  "    target_size=(224, 224),\n",
  "    batch_size=32,\n",
  "    class_mode='binary'\n",
  ")\n"
]

  },
  {
   "cell_type": "markdown",
   "metadata": {},
   "source": [
    "## Implementation\n",
    "\n",
    "[Implement your baseline model here.]\n",
    "\n"
   ]
  },
  {
   "cell_type": "code",
   "execution_count": null,
   "metadata": {},
   "outputs": [],
"source": [
  "# Load image data\n",
  "train_data = train_datagen.flow_from_directory(train_dir, target_size=(224, 224), batch_size=32, class_mode='binary')\n",
  "val_data = val_datagen.flow_from_directory(val_dir, target_size=(224, 224), batch_size=32, class_mode='binary')\n",
  "\n",
  "# Baseline CNN model\n",
  "model = Sequential([\n",
  "    Conv2D(32, (3, 3), activation='relu', input_shape=(224, 224, 3)),\n",
  "    MaxPooling2D(2, 2),\n",
  "    Flatten(),\n",
  "    Dense(64, activation='relu'),\n",
  "    Dense(1, activation='sigmoid')\n",
  "])\n",
  "\n",
  "model.compile(optimizer=Adam(), loss='binary_crossentropy', metrics=['accuracy'])\n",
  "\n",
  "# Train the model\n",
  "history = model.fit(train_data, epochs=5, validation_data=val_data)\n"
]

  },
  {
   "cell_type": "markdown",
   "metadata": {},
   "source": [
    "## Evaluation\n",
    "\n",
    "[Clearly state what metrics you will use to evaluate the model's performance. These metrics will serve as a starting point for evaluating more complex models later on.]\n",
    "\n"
   ]
  },
  {
   "cell_type": "code",
   "execution_count": null,
   "metadata": {},
   "outputs": [],
"source": [
  "# Reset validation generator to avoid batch mismatch\n",
  "val_data.reset()\n",
  "\n",
  "# Predictions and true labels\n",
  "y_pred_probs = model.predict(val_data)\n",
  "y_pred = (y_pred_probs > 0.5).astype(int)\n",
  "y_true = val_data.classes\n",
  "\n",
  "# Metrics\n",
  "print(\"Confusion Matrix:\")\n",
  "print(confusion_matrix(y_true, y_pred))\n",
  "print(\"\\nClassification Report:\")\n",
  "print(classification_report(y_true, y_pred))\n"
]
  }
 ],
 "metadata": {
  "language_info": {
   "name": "python"
  }
 },
 "nbformat": 4,
 "nbformat_minor": 2
}
